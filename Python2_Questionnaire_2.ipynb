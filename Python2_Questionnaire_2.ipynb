{
  "nbformat": 4,
  "nbformat_minor": 0,
  "metadata": {
    "colab": {
      "name": "Python2:  Questionnaire 2.ipynb",
      "provenance": [],
      "authorship_tag": "ABX9TyOF5ujz9l3RaR8pN/9JgxuY",
      "include_colab_link": true
    },
    "kernelspec": {
      "name": "python3",
      "display_name": "Python 3"
    },
    "language_info": {
      "name": "python"
    }
  },
  "cells": [
    {
      "cell_type": "markdown",
      "metadata": {
        "id": "view-in-github",
        "colab_type": "text"
      },
      "source": [
        "<a href=\"https://colab.research.google.com/github/eshmaapps/pythonTutorial/blob/main/Python2_Questionnaire_2.ipynb\" target=\"_parent\"><img src=\"https://colab.research.google.com/assets/colab-badge.svg\" alt=\"Open In Colab\"/></a>"
      ]
    },
    {
      "cell_type": "markdown",
      "source": [
        "**Learning the for loop:**\n",
        "\n",
        "Using for loop, we can iterate any sequence or iterable variable. The sequence can be string, list, dictionary, set, or tuple.\n",
        "\n",
        "\n",
        "\n",
        "```\n",
        "for element in sequence:\n",
        "\n",
        "     body of for loop\n",
        "```\n",
        "\n",
        "\n"
      ],
      "metadata": {
        "id": "4PIETecemJhY"
      }
    }
  ]
}