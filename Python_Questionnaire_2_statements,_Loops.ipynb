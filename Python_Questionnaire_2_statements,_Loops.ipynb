{
  "nbformat": 4,
  "nbformat_minor": 0,
  "metadata": {
    "colab": {
      "name": "Python Questionnaire 2 - statements, Loops.ipynb",
      "provenance": [],
      "authorship_tag": "ABX9TyPFndo77l9P9hkyT+e3UW3a",
      "include_colab_link": true
    },
    "kernelspec": {
      "name": "python3",
      "display_name": "Python 3"
    },
    "language_info": {
      "name": "python"
    }
  },
  "cells": [
    {
      "cell_type": "markdown",
      "metadata": {
        "id": "view-in-github",
        "colab_type": "text"
      },
      "source": [
        "<a href=\"https://colab.research.google.com/github/eshmaapps/pythonTutorial/blob/main/Python_Questionnaire_2_statements%2C_Loops.ipynb\" target=\"_parent\"><img src=\"https://colab.research.google.com/assets/colab-badge.svg\" alt=\"Open In Colab\"/></a>"
      ]
    },
    {
      "cell_type": "code",
      "execution_count": null,
      "metadata": {
        "id": "ciDk6SslN7H5"
      },
      "outputs": [],
      "source": [
        ""
      ]
    },
    {
      "cell_type": "markdown",
      "source": [
        "Problem #1.\n",
        "For a given input number, find all the divisors\n",
        "\n",
        "\n",
        "______________________________________________________________\n",
        "\n",
        "\n",
        "Problem #2. Rock, Paper, Scissors!!\n",
        "\n",
        "Ask for player plays (using input), compare them, print out a message of congratulations to the winner, and ask if the players want to start a new game)\n",
        "\n",
        "Remember the rules:\n",
        "\n",
        "Rock beats scissors\n",
        "Scissors beats paper\n",
        "Paper beats rock\n",
        "\n",
        "______________________________________________________________\n",
        "Problem #3: Write \"hello\" a file, save it, close, open it, read and close.\n",
        "\n",
        "\n"
      ],
      "metadata": {
        "id": "qH5yc_rFOANi"
      }
    },
    {
      "cell_type": "code",
      "source": [
        "\n",
        "open_file = open('file_to_save.txt', 'w')\n",
        "open_file.write('A string to write')\n",
        "open_file.close()\n"
      ],
      "metadata": {
        "id": "PuAm5v-QPd--"
      },
      "execution_count": 1,
      "outputs": []
    },
    {
      "cell_type": "code",
      "source": [
        "open__ = open('file_to_save.txt', 'r')\n",
        "print(open__.read())\n",
        "open__.close()"
      ],
      "metadata": {
        "colab": {
          "base_uri": "https://localhost:8080/"
        },
        "id": "vXzBxaIdPn7g",
        "outputId": "03c0b61f-6a43-488c-da91-a292c26d3a99"
      },
      "execution_count": 2,
      "outputs": [
        {
          "output_type": "stream",
          "name": "stdout",
          "text": [
            "A string to write\n"
          ]
        }
      ]
    }
  ]
}