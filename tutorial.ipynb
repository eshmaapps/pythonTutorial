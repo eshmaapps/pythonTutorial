{
  "nbformat": 4,
  "nbformat_minor": 0,
  "metadata": {
    "colab": {
      "name": "tutorial.ipynb",
      "provenance": [],
      "authorship_tag": "ABX9TyOibQBOtW5eWGPy8deDdXen",
      "include_colab_link": true
    },
    "kernelspec": {
      "name": "python3",
      "display_name": "Python 3"
    },
    "language_info": {
      "name": "python"
    }
  },
  "cells": [
    {
      "cell_type": "markdown",
      "metadata": {
        "id": "view-in-github",
        "colab_type": "text"
      },
      "source": [
        "<a href=\"https://colab.research.google.com/github/eshmaapps/pythonTutorial/blob/main/tutorial.ipynb\" target=\"_parent\"><img src=\"https://colab.research.google.com/assets/colab-badge.svg\" alt=\"Open In Colab\"/></a>"
      ]
    },
    {
      "cell_type": "code",
      "metadata": {
        "colab": {
          "base_uri": "https://localhost:8080/",
          "height": 35
        },
        "id": "WF7TUtA-PZJ4",
        "outputId": "1fc86337-33f2-4e19-d2b5-6f8e0ce4e0eb"
      },
      "source": [
        "#This is a comment and will not get executed\n",
        "\"\"\"\n",
        "This is a multi-line comment \n",
        "And will also not get executed\n",
        "\"\"\""
      ],
      "execution_count": 1,
      "outputs": [
        {
          "output_type": "execute_result",
          "data": {
            "application/vnd.google.colaboratory.intrinsic+json": {
              "type": "string"
            },
            "text/plain": [
              "'\\nThis is a multi-line comment \\nAnd will also not get executed\\n'"
            ]
          },
          "metadata": {},
          "execution_count": 1
        }
      ]
    },
    {
      "cell_type": "code",
      "metadata": {
        "colab": {
          "base_uri": "https://localhost:8080/"
        },
        "id": "ixEU2D1Yam4K",
        "outputId": "528a9bd1-56e1-4f01-f831-4bbe8b94f48a"
      },
      "source": [
        "#Starting with a simple string\n",
        "print('Hello, world!')"
      ],
      "execution_count": 2,
      "outputs": [
        {
          "output_type": "stream",
          "name": "stdout",
          "text": [
            "Hello, world!\n"
          ]
        }
      ]
    },
    {
      "cell_type": "code",
      "metadata": {
        "id": "8AdsAJdHfY4A",
        "outputId": "7226cd94-7cfb-4c28-fac6-649b90aa95ff",
        "colab": {
          "base_uri": "https://localhost:8080/"
        }
      },
      "source": [
        "x = 2+2\n",
        "print(x)\n",
        "x = x + 10\n",
        "print(x)\n",
        "x = 4*5\n",
        "print(x)\n"
      ],
      "execution_count": 20,
      "outputs": [
        {
          "output_type": "stream",
          "name": "stdout",
          "text": [
            "4\n",
            "14\n",
            "20\n"
          ]
        }
      ]
    },
    {
      "cell_type": "code",
      "metadata": {
        "id": "91kAPZsSfhfP",
        "outputId": "4cfce1cb-4a03-480f-d1b3-3fac0de1dbd6",
        "colab": {
          "base_uri": "https://localhost:8080/"
        }
      },
      "source": [
        "name = input('Enter a number: ')"
      ],
      "execution_count": 23,
      "outputs": [
        {
          "name": "stdout",
          "output_type": "stream",
          "text": [
            "Enter a number6\n"
          ]
        }
      ]
    },
    {
      "cell_type": "code",
      "metadata": {
        "colab": {
          "base_uri": "https://localhost:8080/"
        },
        "id": "o8V8AqSaasAF",
        "outputId": "8bb19779-a459-413c-ae50-26ea4a20693a"
      },
      "source": [
        "#Indentation\n",
        "if 1 > 0:\n",
        "\tprint(\"It's a beautiful world!\")\n",
        "print(\"It's a beautiful world still!\")"
      ],
      "execution_count": 3,
      "outputs": [
        {
          "output_type": "stream",
          "name": "stdout",
          "text": [
            "It's a beautiful world!\n",
            "It's a beautiful world still!\n"
          ]
        }
      ]
    },
    {
      "cell_type": "code",
      "metadata": {
        "colab": {
          "base_uri": "https://localhost:8080/"
        },
        "id": "m2JN9q8oaun8",
        "outputId": "6232df4a-498d-4326-82d9-4c852f1a8a4b"
      },
      "source": [
        "#Variables\n",
        "x = 28\n",
        "y = \"I am a string!\"\n",
        "z = 'Double quotes or single quotes are ok!'\n",
        "print(x)\n",
        "print(y)\n",
        "print (z)\n",
        "print(type(y))\n",
        "#Variable types can be changed\n",
        "y = 10\n",
        "print(y)"
      ],
      "execution_count": 4,
      "outputs": [
        {
          "output_type": "stream",
          "name": "stdout",
          "text": [
            "28\n",
            "I am a string!\n",
            "Double quotes or single quotes are ok!\n",
            "<class 'str'>\n",
            "10\n"
          ]
        }
      ]
    },
    {
      "cell_type": "code",
      "metadata": {
        "colab": {
          "base_uri": "https://localhost:8080/"
        },
        "id": "Z97RfFyFayGD",
        "outputId": "e16538eb-3dd9-4b70-cc90-8013d72d9793"
      },
      "source": [
        "#Casting of variables\n",
        "x = str(3)    # x will be '3'\n",
        "y = int(3)    # y will be 3\n",
        "z = float(3)  # z will be 3.0\n",
        "print(z)"
      ],
      "execution_count": 5,
      "outputs": [
        {
          "output_type": "stream",
          "name": "stdout",
          "text": [
            "3.0\n"
          ]
        }
      ]
    },
    {
      "cell_type": "code",
      "metadata": {
        "colab": {
          "base_uri": "https://localhost:8080/"
        },
        "id": "6OorNWkxa17x",
        "outputId": "e3edf677-7b59-4182-db32-283743c29cdf"
      },
      "source": [
        "#Get variable type\n",
        "print(type(x))"
      ],
      "execution_count": 6,
      "outputs": [
        {
          "output_type": "stream",
          "name": "stdout",
          "text": [
            "<class 'str'>\n"
          ]
        }
      ]
    },
    {
      "cell_type": "code",
      "metadata": {
        "colab": {
          "base_uri": "https://localhost:8080/"
        },
        "id": "xklM7GPVa4G6",
        "outputId": "218d5178-82fb-4f7d-b9bf-e3e9e5973513"
      },
      "source": [
        "#Case sensitive\n",
        "var1 = 10\n",
        "Var1 = 20\n",
        "print(var1)\n",
        "print(Var1)"
      ],
      "execution_count": 7,
      "outputs": [
        {
          "output_type": "stream",
          "name": "stdout",
          "text": [
            "10\n",
            "20\n"
          ]
        }
      ]
    },
    {
      "cell_type": "code",
      "metadata": {
        "colab": {
          "base_uri": "https://localhost:8080/",
          "height": 69
        },
        "id": "AiAnPpkca5jF",
        "outputId": "2a1db113-d7c7-4cd5-a298-dd02d26a426b"
      },
      "source": [
        "\n",
        "#Variable namimg convention\n",
        "\"\"\"\n",
        "A variable can have a short name (like x and y) or a more descriptive name (age, carname, total_volume). \n",
        "Rules for Python variables:\n",
        "1. A variable name must start with a letter or the underscore character\n",
        "2. A variable name cannot start with a number\n",
        "3. A variable name can only contain alpha-numeric characters and underscores (A-z, 0-9, and _ )\n",
        "4. Variable names are case-sensitive (age, Age and AGE are three different variables)\n",
        "\"\"\""
      ],
      "execution_count": 8,
      "outputs": [
        {
          "output_type": "execute_result",
          "data": {
            "application/vnd.google.colaboratory.intrinsic+json": {
              "type": "string"
            },
            "text/plain": [
              "'\\nA variable can have a short name (like x and y) or a more descriptive name (age, carname, total_volume). \\nRules for Python variables:\\n1. A variable name must start with a letter or the underscore character\\n2. A variable name cannot start with a number\\n3. A variable name can only contain alpha-numeric characters and underscores (A-z, 0-9, and _ )\\n4. Variable names are case-sensitive (age, Age and AGE are three different variables)\\n'"
            ]
          },
          "metadata": {},
          "execution_count": 8
        }
      ]
    },
    {
      "cell_type": "code",
      "metadata": {
        "id": "KB98NZDfa7Un"
      },
      "source": [
        "#Camel case \n",
        "camelCase = \"This is a string variable in camel case format\"\n",
        "#Snake case\n",
        "snake_case_format_string = \"This is a snake case format. Which do you like best?\""
      ],
      "execution_count": 9,
      "outputs": []
    },
    {
      "cell_type": "code",
      "metadata": {
        "colab": {
          "base_uri": "https://localhost:8080/"
        },
        "id": "paeqKCSYa85H",
        "outputId": "bd3dda47-43b8-48a3-e50b-58d621bf680c"
      },
      "source": [
        "#Many Values to Multiple Variables\n",
        "x, y, z = \"a\", \"b\", \"c\"\n",
        "print(x)\n",
        "print(y)\n",
        "print(z)"
      ],
      "execution_count": 10,
      "outputs": [
        {
          "output_type": "stream",
          "name": "stdout",
          "text": [
            "a\n",
            "b\n",
            "c\n"
          ]
        }
      ]
    },
    {
      "cell_type": "code",
      "metadata": {
        "colab": {
          "base_uri": "https://localhost:8080/"
        },
        "id": "IuY3DC22a-gP",
        "outputId": "c58cb7fd-9a5d-4b64-afe5-b2703a760e74"
      },
      "source": [
        "#One Value to Multiple Variables\n",
        "x = y = z = \"b\"\n",
        "print(x)\n",
        "print(y)\n",
        "print(z)"
      ],
      "execution_count": 11,
      "outputs": [
        {
          "output_type": "stream",
          "name": "stdout",
          "text": [
            "b\n",
            "b\n",
            "b\n"
          ]
        }
      ]
    },
    {
      "cell_type": "code",
      "metadata": {
        "colab": {
          "base_uri": "https://localhost:8080/"
        },
        "id": "rMupCSc0bE3U",
        "outputId": "2f447601-4b38-4437-a26b-517454c367db"
      },
      "source": [
        "#using arrays\n",
        "fruits = [\"a\", \"b\", \"c\"]\n",
        "x, y, z = fruits\n",
        "print(x)\n",
        "print(y)\n",
        "print(z)"
      ],
      "execution_count": 12,
      "outputs": [
        {
          "output_type": "stream",
          "name": "stdout",
          "text": [
            "a\n",
            "b\n",
            "c\n"
          ]
        }
      ]
    },
    {
      "cell_type": "code",
      "metadata": {
        "colab": {
          "base_uri": "https://localhost:8080/"
        },
        "id": "MASP_gXobGa2",
        "outputId": "2da97d70-c930-4f1c-e973-b60273b9c0cf"
      },
      "source": [
        "#Outputting variables using print\n",
        "x = \"good\"\n",
        "print(\"x = \"+ x)\n",
        "\n",
        "#concatenating strings\n",
        "x = \"Life is\"\n",
        "y = \"good\"\n",
        "z = x + y \n",
        "print (z)"
      ],
      "execution_count": 13,
      "outputs": [
        {
          "output_type": "stream",
          "name": "stdout",
          "text": [
            "x = good\n",
            "Life isgood\n"
          ]
        }
      ]
    },
    {
      "cell_type": "code",
      "metadata": {
        "colab": {
          "base_uri": "https://localhost:8080/",
          "height": 215
        },
        "id": "rGkY91LhbIKB",
        "outputId": "f4778e6e-f22c-4632-f747-56fa7bbd51af"
      },
      "source": [
        "x = \"The value of pi is \"\n",
        "y = 3.14\n",
        "z = x + y\n",
        "print(z)"
      ],
      "execution_count": 14,
      "outputs": [
        {
          "output_type": "error",
          "ename": "TypeError",
          "evalue": "ignored",
          "traceback": [
            "\u001b[0;31m---------------------------------------------------------------------------\u001b[0m",
            "\u001b[0;31mTypeError\u001b[0m                                 Traceback (most recent call last)",
            "\u001b[0;32m<ipython-input-14-5856250f8635>\u001b[0m in \u001b[0;36m<module>\u001b[0;34m()\u001b[0m\n\u001b[1;32m      1\u001b[0m \u001b[0mx\u001b[0m \u001b[0;34m=\u001b[0m \u001b[0;34m\"The value of pi is \"\u001b[0m\u001b[0;34m\u001b[0m\u001b[0;34m\u001b[0m\u001b[0m\n\u001b[1;32m      2\u001b[0m \u001b[0my\u001b[0m \u001b[0;34m=\u001b[0m \u001b[0;36m3.14\u001b[0m\u001b[0;34m\u001b[0m\u001b[0;34m\u001b[0m\u001b[0m\n\u001b[0;32m----> 3\u001b[0;31m \u001b[0mz\u001b[0m \u001b[0;34m=\u001b[0m \u001b[0mx\u001b[0m \u001b[0;34m+\u001b[0m \u001b[0my\u001b[0m\u001b[0;34m\u001b[0m\u001b[0;34m\u001b[0m\u001b[0m\n\u001b[0m\u001b[1;32m      4\u001b[0m \u001b[0mprint\u001b[0m\u001b[0;34m(\u001b[0m\u001b[0mz\u001b[0m\u001b[0;34m)\u001b[0m\u001b[0;34m\u001b[0m\u001b[0;34m\u001b[0m\u001b[0m\n",
            "\u001b[0;31mTypeError\u001b[0m: can only concatenate str (not \"float\") to str"
          ]
        }
      ]
    },
    {
      "cell_type": "code",
      "metadata": {
        "colab": {
          "base_uri": "https://localhost:8080/"
        },
        "id": "HZ-7milRbPRg",
        "outputId": "31a08a78-f3c4-495d-b7ae-af77a8922600"
      },
      "source": [
        "#Scope\n",
        "x = \"awesome\"\n",
        "\n",
        "def myfunc():\n",
        "  x = \"fantastic\"\n",
        "  print(\"Python is \" + x)\n",
        "\n",
        "myfunc()\n",
        "\n",
        "print(\"Python is \" + x)\n",
        "\n"
      ],
      "execution_count": 15,
      "outputs": [
        {
          "output_type": "stream",
          "name": "stdout",
          "text": [
            "Python is fantastic\n",
            "Python is awesome\n"
          ]
        }
      ]
    },
    {
      "cell_type": "code",
      "metadata": {
        "colab": {
          "base_uri": "https://localhost:8080/"
        },
        "id": "QZMNt1NLc9xn",
        "outputId": "29ef451e-fb97-43a9-f4f5-889366428292"
      },
      "source": [
        "\n",
        "a = \"Amsterdam!\"\n",
        "print(a[1])\n",
        "for x in \"Aloha\":\n",
        "  print(x)\n",
        "\n",
        "print(len(a))"
      ],
      "execution_count": 16,
      "outputs": [
        {
          "output_type": "stream",
          "name": "stdout",
          "text": [
            "m\n",
            "A\n",
            "l\n",
            "o\n",
            "h\n",
            "a\n",
            "10\n"
          ]
        }
      ]
    },
    {
      "cell_type": "code",
      "metadata": {
        "colab": {
          "base_uri": "https://localhost:8080/"
        },
        "id": "-iqIxY-Rb3jK",
        "outputId": "51f807e9-9c41-4ac7-b430-059f5072c3f0"
      },
      "source": [
        "#Get the characters from position 2 to position 5 (not included):\n",
        "b = \"Applesauce!\"\n",
        "print(b[2:5])\n",
        "#From beginning\n",
        "print(b[:5])\n",
        "#To end\n",
        "print(b[2:])\n",
        "#From end of the string\n",
        "print(b[-5:-2])"
      ],
      "execution_count": 17,
      "outputs": [
        {
          "output_type": "stream",
          "name": "stdout",
          "text": [
            "ple\n",
            "Apple\n",
            "plesauce!\n",
            "auc\n"
          ]
        }
      ]
    },
    {
      "cell_type": "code",
      "metadata": {
        "colab": {
          "base_uri": "https://localhost:8080/"
        },
        "id": "5KiiX9i4b5E_",
        "outputId": "d4a203d5-0811-4632-ae62-135bca29ca4b"
      },
      "source": [
        "\n",
        "#Other operations such as upper case, lower case, trimming spaces, replacing words and splitting \n",
        "a = \" I am a fancy string \"\n",
        "print(a.upper())\n",
        "print(a.lower())\n",
        "print(a.strip()) \n",
        "print(a.replace(\"fancy\", \"simple\"))\n",
        "print(a.split(\" \"))\n"
      ],
      "execution_count": 18,
      "outputs": [
        {
          "output_type": "stream",
          "name": "stdout",
          "text": [
            " I AM A FANCY STRING \n",
            " i am a fancy string \n",
            "I am a fancy string\n",
            " I am a simple string \n",
            "['', 'I', 'am', 'a', 'fancy', 'string', '']\n"
          ]
        }
      ]
    },
    {
      "cell_type": "code",
      "metadata": {
        "colab": {
          "base_uri": "https://localhost:8080/"
        },
        "id": "hLzdAAuPb6Wq",
        "outputId": "2b97b457-e496-4928-d45f-e182700e16a4"
      },
      "source": [
        "#Formatting strings for diff data types\n",
        "age = 1\n",
        "txt = \"My name is Jax, and I am {}\"\n",
        "print(txt.format(age))\n",
        "\n",
        "quantity = 10\n",
        "item = \"tomatoes\"\n",
        "price = 12\n",
        "time = 1\n",
        "myorder = \"I want {} {} for ${} dollars please in {} hour(s).\"\n",
        "print(myorder.format(quantity, item, price, time))\n",
        "\n",
        "txt = \"We are the so-called \\\"Vikings\\\" from the north.\""
      ],
      "execution_count": 19,
      "outputs": [
        {
          "output_type": "stream",
          "name": "stdout",
          "text": [
            "My name is Jax, and I am 1\n",
            "I want 10 tomatoes for $12 dollars please in 1 hour(s).\n"
          ]
        }
      ]
    }
  ]
}