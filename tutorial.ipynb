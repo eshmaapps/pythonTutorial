{
  "nbformat": 4,
  "nbformat_minor": 0,
  "metadata": {
    "colab": {
      "name": "tutorial.ipynb",
      "provenance": [],
      "authorship_tag": "ABX9TyNJe6wainJiaNjmyNTGDAJS",
      "include_colab_link": true
    },
    "kernelspec": {
      "name": "python3",
      "display_name": "Python 3"
    },
    "language_info": {
      "name": "python"
    }
  },
  "cells": [
    {
      "cell_type": "markdown",
      "metadata": {
        "id": "view-in-github",
        "colab_type": "text"
      },
      "source": [
        "<a href=\"https://colab.research.google.com/github/eshmaapps/pythonTutorial/blob/main/tutorial.ipynb\" target=\"_parent\"><img src=\"https://colab.research.google.com/assets/colab-badge.svg\" alt=\"Open In Colab\"/></a>"
      ]
    },
    {
      "cell_type": "code",
      "metadata": {
        "id": "WF7TUtA-PZJ4"
      },
      "source": [
        "#This is a comment and will not get executed\n",
        "\"\"\"\n",
        "This is a multi-line comment \n",
        "And will also not get executed\n",
        "\"\"\""
      ],
      "execution_count": null,
      "outputs": []
    },
    {
      "cell_type": "code",
      "metadata": {
        "id": "ixEU2D1Yam4K"
      },
      "source": [
        "#Starting with a simple string\n",
        "print('Hello, world!')"
      ],
      "execution_count": null,
      "outputs": []
    },
    {
      "cell_type": "code",
      "metadata": {
        "id": "8AdsAJdHfY4A"
      },
      "source": [
        "#Operators\n",
        "\n",
        "#Addition\n",
        "\n",
        "x = 2+2\n",
        "print(x)\n",
        "x = x + 10\n",
        "print(x)\n",
        "\n",
        "# Another way of adding to self\n",
        "x += 10\n",
        "print(x)\n",
        "\n",
        "#Subtraction\n",
        "x = 10-2\n",
        "print(x)\n",
        "x -= 5\n",
        "print(x)\n",
        "\n",
        "#Multiplication\n",
        "x = 4*5\n",
        "print(x)\n",
        "x *= 5\n",
        "print(x)\n",
        "\n",
        "\n",
        "#Division\n",
        "x = 5/4\n",
        "print(x)\n",
        "\n",
        "#Modulus\n",
        "\n",
        "x = 5%4\n",
        "print(x)\n",
        "\n",
        "#Exponentiation\n",
        "x = 5**2\n",
        "print(x)\n"
      ],
      "execution_count": null,
      "outputs": []
    },
    {
      "cell_type": "code",
      "metadata": {
        "id": "o8V8AqSaasAF"
      },
      "source": [
        "#Indentation\n",
        "if 1 > 0:\n",
        "\tprint(\"It's a beautiful world!\")\n",
        "print(\"It's a beautiful world still!\")"
      ],
      "execution_count": null,
      "outputs": []
    },
    {
      "cell_type": "code",
      "metadata": {
        "id": "m2JN9q8oaun8"
      },
      "source": [
        "#Variables\n",
        "x = 28\n",
        "y = \"I am a string!\"\n",
        "z = 'Double quotes or single quotes are ok!'\n",
        "print(x)\n",
        "print(y)\n",
        "print (z)\n",
        "print(type(y))\n",
        "#Variable types can be changed\n",
        "y = 10\n",
        "print(y)"
      ],
      "execution_count": null,
      "outputs": []
    },
    {
      "cell_type": "code",
      "metadata": {
        "colab": {
          "base_uri": "https://localhost:8080/"
        },
        "id": "Z97RfFyFayGD",
        "outputId": "e16538eb-3dd9-4b70-cc90-8013d72d9793"
      },
      "source": [
        "#Casting of variables\n",
        "x = str(3)    # x will be '3'\n",
        "y = int(3)    # y will be 3\n",
        "z = float(3)  # z will be 3.0\n",
        "print(z)"
      ],
      "execution_count": null,
      "outputs": [
        {
          "output_type": "stream",
          "name": "stdout",
          "text": [
            "3.0\n"
          ]
        }
      ]
    },
    {
      "cell_type": "code",
      "metadata": {
        "colab": {
          "base_uri": "https://localhost:8080/"
        },
        "id": "6OorNWkxa17x",
        "outputId": "e3edf677-7b59-4182-db32-283743c29cdf"
      },
      "source": [
        "#Get variable type\n",
        "print(type(x))"
      ],
      "execution_count": null,
      "outputs": [
        {
          "output_type": "stream",
          "name": "stdout",
          "text": [
            "<class 'str'>\n"
          ]
        }
      ]
    },
    {
      "cell_type": "code",
      "metadata": {
        "colab": {
          "base_uri": "https://localhost:8080/"
        },
        "id": "xklM7GPVa4G6",
        "outputId": "218d5178-82fb-4f7d-b9bf-e3e9e5973513"
      },
      "source": [
        "#Case sensitive\n",
        "var1 = 10\n",
        "Var1 = 20\n",
        "print(var1)\n",
        "print(Var1)"
      ],
      "execution_count": null,
      "outputs": [
        {
          "output_type": "stream",
          "name": "stdout",
          "text": [
            "10\n",
            "20\n"
          ]
        }
      ]
    },
    {
      "cell_type": "code",
      "metadata": {
        "id": "AiAnPpkca5jF"
      },
      "source": [
        "\n",
        "#Variable namimg convention\n",
        "\"\"\"\n",
        "A variable can have a short name (like x and y) or a more descriptive name (age, carname, total_volume). \n",
        "Rules for Python variables:\n",
        "1. A variable name must start with a letter or the underscore character\n",
        "2. A variable name cannot start with a number\n",
        "3. A variable name can only contain alpha-numeric characters and underscores (A-z, 0-9, and _ )\n",
        "4. Variable names are case-sensitive (age, Age and AGE are three different variables)\n",
        "\"\"\""
      ],
      "execution_count": null,
      "outputs": []
    },
    {
      "cell_type": "code",
      "metadata": {
        "id": "KB98NZDfa7Un"
      },
      "source": [
        "#Camel case \n",
        "camelCase = \"This is a string variable in camel case format\"\n",
        "#Snake case\n",
        "snake_case_format_string = \"This is a snake case format. Which do you like best?\""
      ],
      "execution_count": null,
      "outputs": []
    },
    {
      "cell_type": "code",
      "metadata": {
        "id": "paeqKCSYa85H"
      },
      "source": [
        "#Many Values to Multiple Variables\n",
        "x, y, z = \"a\", \"b\", \"c\"\n",
        "print(x)\n",
        "print(y)\n",
        "print(z)"
      ],
      "execution_count": null,
      "outputs": []
    },
    {
      "cell_type": "code",
      "metadata": {
        "id": "IuY3DC22a-gP"
      },
      "source": [
        "#One Value to Multiple Variables\n",
        "x = y = z = \"b\"\n",
        "print(x)\n",
        "print(y)\n",
        "print(z)"
      ],
      "execution_count": null,
      "outputs": []
    },
    {
      "cell_type": "code",
      "metadata": {
        "id": "rMupCSc0bE3U"
      },
      "source": [
        "#using arrays\n",
        "letters = [\"a\", \"b\", \"c\"]\n",
        "x, y, z = letters\n",
        "print(x)\n",
        "print(y)\n",
        "print(z)"
      ],
      "execution_count": null,
      "outputs": []
    },
    {
      "cell_type": "code",
      "metadata": {
        "colab": {
          "base_uri": "https://localhost:8080/"
        },
        "id": "MASP_gXobGa2",
        "outputId": "2da97d70-c930-4f1c-e973-b60273b9c0cf"
      },
      "source": [
        "#Outputting variables using print\n",
        "x = \"good\"\n",
        "print(\"x = \"+ x)\n",
        "\n",
        "#concatenating strings\n",
        "x = \"Life is\"\n",
        "y = \"good\"\n",
        "z = x + y \n",
        "print (z)"
      ],
      "execution_count": null,
      "outputs": [
        {
          "output_type": "stream",
          "name": "stdout",
          "text": [
            "x = good\n",
            "Life isgood\n"
          ]
        }
      ]
    },
    {
      "cell_type": "code",
      "metadata": {
        "colab": {
          "base_uri": "https://localhost:8080/",
          "height": 215
        },
        "id": "rGkY91LhbIKB",
        "outputId": "f4778e6e-f22c-4632-f747-56fa7bbd51af"
      },
      "source": [
        "x = \"The value of pi is \"\n",
        "y = 3.14\n",
        "z = x + y\n",
        "print(z)"
      ],
      "execution_count": null,
      "outputs": [
        {
          "output_type": "error",
          "ename": "TypeError",
          "evalue": "ignored",
          "traceback": [
            "\u001b[0;31m---------------------------------------------------------------------------\u001b[0m",
            "\u001b[0;31mTypeError\u001b[0m                                 Traceback (most recent call last)",
            "\u001b[0;32m<ipython-input-14-5856250f8635>\u001b[0m in \u001b[0;36m<module>\u001b[0;34m()\u001b[0m\n\u001b[1;32m      1\u001b[0m \u001b[0mx\u001b[0m \u001b[0;34m=\u001b[0m \u001b[0;34m\"The value of pi is \"\u001b[0m\u001b[0;34m\u001b[0m\u001b[0;34m\u001b[0m\u001b[0m\n\u001b[1;32m      2\u001b[0m \u001b[0my\u001b[0m \u001b[0;34m=\u001b[0m \u001b[0;36m3.14\u001b[0m\u001b[0;34m\u001b[0m\u001b[0;34m\u001b[0m\u001b[0m\n\u001b[0;32m----> 3\u001b[0;31m \u001b[0mz\u001b[0m \u001b[0;34m=\u001b[0m \u001b[0mx\u001b[0m \u001b[0;34m+\u001b[0m \u001b[0my\u001b[0m\u001b[0;34m\u001b[0m\u001b[0;34m\u001b[0m\u001b[0m\n\u001b[0m\u001b[1;32m      4\u001b[0m \u001b[0mprint\u001b[0m\u001b[0;34m(\u001b[0m\u001b[0mz\u001b[0m\u001b[0;34m)\u001b[0m\u001b[0;34m\u001b[0m\u001b[0;34m\u001b[0m\u001b[0m\n",
            "\u001b[0;31mTypeError\u001b[0m: can only concatenate str (not \"float\") to str"
          ]
        }
      ]
    },
    {
      "cell_type": "code",
      "metadata": {
        "id": "HZ-7milRbPRg"
      },
      "source": [
        "#Scope\n",
        "x = \"awesome\"\n",
        "\n",
        "def myfunc():\n",
        "  x = \"fantastic\"\n",
        "  print(\"Life is \" + x)\n",
        "\n",
        "myfunc()\n",
        "\n",
        "print(\"Life is \" + x)\n",
        "\n"
      ],
      "execution_count": null,
      "outputs": []
    },
    {
      "cell_type": "code",
      "metadata": {
        "colab": {
          "base_uri": "https://localhost:8080/"
        },
        "id": "QZMNt1NLc9xn",
        "outputId": "29ef451e-fb97-43a9-f4f5-889366428292"
      },
      "source": [
        "\n",
        "a = \"Amsterdam!\"\n",
        "print(a[1])\n",
        "for x in \"Aloha\":\n",
        "  print(x)\n",
        "\n",
        "print(len(a))"
      ],
      "execution_count": null,
      "outputs": [
        {
          "output_type": "stream",
          "name": "stdout",
          "text": [
            "m\n",
            "A\n",
            "l\n",
            "o\n",
            "h\n",
            "a\n",
            "10\n"
          ]
        }
      ]
    },
    {
      "cell_type": "code",
      "metadata": {
        "colab": {
          "base_uri": "https://localhost:8080/"
        },
        "id": "-iqIxY-Rb3jK",
        "outputId": "51f807e9-9c41-4ac7-b430-059f5072c3f0"
      },
      "source": [
        "#Get the characters from position 2 to position 5 (not included):\n",
        "b = \"Applesauce!\"\n",
        "print(b[2:5])\n",
        "#From beginning\n",
        "print(b[:5])\n",
        "#To end\n",
        "print(b[2:])\n",
        "#From end of the string\n",
        "print(b[-5:-2])"
      ],
      "execution_count": null,
      "outputs": [
        {
          "output_type": "stream",
          "name": "stdout",
          "text": [
            "ple\n",
            "Apple\n",
            "plesauce!\n",
            "auc\n"
          ]
        }
      ]
    },
    {
      "cell_type": "code",
      "metadata": {
        "colab": {
          "base_uri": "https://localhost:8080/"
        },
        "id": "5KiiX9i4b5E_",
        "outputId": "d4a203d5-0811-4632-ae62-135bca29ca4b"
      },
      "source": [
        "\n",
        "#Other operations such as upper case, lower case, trimming spaces, replacing words and splitting \n",
        "a = \" I am a fancy string \"\n",
        "print(a.upper())\n",
        "print(a.lower())\n",
        "print(a.strip()) \n",
        "print(a.replace(\"fancy\", \"simple\"))\n",
        "print(a.split(\" \"))\n"
      ],
      "execution_count": null,
      "outputs": [
        {
          "output_type": "stream",
          "name": "stdout",
          "text": [
            " I AM A FANCY STRING \n",
            " i am a fancy string \n",
            "I am a fancy string\n",
            " I am a simple string \n",
            "['', 'I', 'am', 'a', 'fancy', 'string', '']\n"
          ]
        }
      ]
    },
    {
      "cell_type": "code",
      "metadata": {
        "colab": {
          "base_uri": "https://localhost:8080/"
        },
        "id": "hLzdAAuPb6Wq",
        "outputId": "2b97b457-e496-4928-d45f-e182700e16a4"
      },
      "source": [
        "#Formatting strings for diff data types\n",
        "age = 1\n",
        "txt = \"My name is Jax, and I am {}\"\n",
        "print(txt.format(age))\n"
      ],
      "execution_count": null,
      "outputs": [
        {
          "output_type": "stream",
          "name": "stdout",
          "text": [
            "My name is Jax, and I am 1\n",
            "I want 10 tomatoes for $12 dollars please in 1 hour(s).\n"
          ]
        }
      ]
    },
    {
      "cell_type": "code",
      "metadata": {
        "id": "_wZz0N1Scx74"
      },
      "source": [
        "\n",
        "quantity = 10\n",
        "item = \"tomatoes\"\n",
        "price = 12\n",
        "time = 1\n",
        "myorder = \"I want {} {} for ${} dollars please in {} hour(s).\"\n",
        "print(myorder.format(quantity, item, price, time))\n"
      ],
      "execution_count": null,
      "outputs": []
    },
    {
      "cell_type": "code",
      "metadata": {
        "id": "7OhbT2qicz2c"
      },
      "source": [
        "txt = \"We are the so-called \\\"Vikings\\\" from the north.\""
      ],
      "execution_count": null,
      "outputs": []
    },
    {
      "cell_type": "code",
      "metadata": {
        "id": "mjV-zuXpc2uL"
      },
      "source": [
        "name = input('What is your name?')\n"
      ],
      "execution_count": null,
      "outputs": []
    },
    {
      "cell_type": "markdown",
      "metadata": {
        "id": "qMiVPC6RrW0W"
      },
      "source": [
        "**Challenge Question 1**\n",
        "\n",
        "Ask the user their year of birth\n",
        "Then tell them how old they are\n",
        "For ex: \n",
        "Which year were you born? 2009\n",
        "Your age is: 12\n"
      ]
    },
    {
      "cell_type": "markdown",
      "metadata": {
        "id": "gByRbMUWQtfv"
      },
      "source": [
        "**Logical operators:**\n",
        "\n",
        "Equals: a == b\n",
        "\n",
        "Not Equals: a != b\n",
        "\n",
        "Less than: a < b\n",
        "\n",
        "Less than or equal to: a <= b\n",
        "\n",
        "Greater than: a > b\n",
        "\n",
        "*Greater* than or equal to: a >= b\n"
      ]
    },
    {
      "cell_type": "markdown",
      "metadata": {
        "id": "ZEEQlO4jQtqX"
      },
      "source": [
        "**Conditional statements:**\n",
        "\n",
        "\n",
        "if, elif, else"
      ]
    },
    {
      "cell_type": "code",
      "metadata": {
        "id": "OCZkGaz5RR_M",
        "outputId": "ce9fb125-7e48-49c3-fc02-8cfd8dc65837",
        "colab": {
          "base_uri": "https://localhost:8080/"
        }
      },
      "source": [
        "#Comparing 2 numbers\n",
        "\n",
        "a = 600\n",
        "b = 600\n",
        "\n",
        "if a< b:\n",
        "  print(\"A is less than b\")\n",
        "elif a == b:\n",
        "  print (\"A is equal to b\")\n",
        "else:\n",
        "  print (\"A is greater than b\")\n",
        "\n"
      ],
      "execution_count": 11,
      "outputs": [
        {
          "output_type": "stream",
          "name": "stdout",
          "text": [
            "A is equal to b\n"
          ]
        }
      ]
    },
    {
      "cell_type": "code",
      "metadata": {
        "id": "bUsqYq2wSIle",
        "outputId": "0c4b1547-d52d-4f63-9b1b-f77f5ef4a88b",
        "colab": {
          "base_uri": "https://localhost:8080/"
        }
      },
      "source": [
        "#logical operation 'and', 'or' to run multiple statements\n",
        "\n",
        "x = 160\n",
        "y = 50\n",
        "z = 90\n",
        "\n",
        "if x ==y or x < 150:\n",
        "  print (\"x = y or < 150\")\n",
        "elif x!=z and x == 100:\n",
        "  print (\"z is not 100\")\n",
        "else:\n",
        "  print(\"nothing matched!\")\n",
        "\n"
      ],
      "execution_count": 14,
      "outputs": [
        {
          "output_type": "stream",
          "name": "stdout",
          "text": [
            "nothing matched!\n"
          ]
        }
      ]
    },
    {
      "cell_type": "markdown",
      "metadata": {
        "id": "Adyyt-9NN-aJ"
      },
      "source": [
        "**Challenge Question 2:**\n",
        "\n",
        "A store sells the following fruits:\n",
        "1. Apples\n",
        "2. Bananas\n",
        "3. Cherries\n",
        "4. Strawberries\n",
        "5. Blueberries\n",
        "\n",
        "A customer walk into the store and goes to a kiosk where a python app is running.  The app asks the customer what fruit they are looking for and tells them if they carry it or not. \n",
        "\n",
        "```\n",
        "# This is formatted as code\n",
        "```\n",
        "\n",
        "\n"
      ]
    },
    {
      "cell_type": "markdown",
      "metadata": {
        "id": "3Besu0zLQtuz"
      },
      "source": [
        "**While and For loops to execute a set of code multiple times! **"
      ]
    },
    {
      "cell_type": "code",
      "metadata": {
        "id": "L6bMDfCLS9ew",
        "outputId": "3e8b6c23-0d51-428e-cd8d-198a9344b005",
        "colab": {
          "base_uri": "https://localhost:8080/"
        }
      },
      "source": [
        "#print squares of numbers\n",
        "counter = 1\n",
        "while counter < 10:\n",
        "  print(counter**2)\n",
        "  counter += 1\n",
        "else:\n",
        "  print(\"all done!\")"
      ],
      "execution_count": 21,
      "outputs": [
        {
          "output_type": "stream",
          "name": "stdout",
          "text": [
            "1\n",
            "4\n",
            "9\n",
            "16\n",
            "25\n",
            "36\n",
            "49\n",
            "64\n",
            "81\n",
            "all done!\n"
          ]
        }
      ]
    },
    {
      "cell_type": "markdown",
      "metadata": {
        "id": "g9Mh0bXpQt5D"
      },
      "source": [
        "**Break and Continue in a loop**\n",
        "\n",
        "continue is used to stop the current iteration, and continue with the next iteration while break is used to break out of the loop"
      ]
    },
    {
      "cell_type": "code",
      "metadata": {
        "id": "ewgNP1HFT35S",
        "outputId": "e7234b5e-677b-451d-b6a8-ba86661f939f",
        "colab": {
          "base_uri": "https://localhost:8080/"
        }
      },
      "source": [
        "#print squares of numbers but skip even numbers\n",
        "\n",
        "counter = 0\n",
        "while counter < 10:\n",
        "  counter += 1\n",
        "  if counter%2 == 0:\n",
        "    continue\n",
        "  \n",
        "  if counter == 7:\n",
        "      break\n",
        "  print(counter**2)"
      ],
      "execution_count": 25,
      "outputs": [
        {
          "output_type": "stream",
          "name": "stdout",
          "text": [
            "1\n",
            "9\n",
            "25\n"
          ]
        }
      ]
    },
    {
      "cell_type": "markdown",
      "metadata": {
        "id": "uQyKUl3RQt8E"
      },
      "source": [
        "**For loops**\n",
        "\n",
        "A for loop is used for iterating over a sequence such as a list or dictionary , tuple, set or string. Whatever is within the for loop, will get executed once for each item in the sequence.\n",
        "\n"
      ]
    },
    {
      "cell_type": "code",
      "metadata": {
        "id": "d2XWb2D-VW2L",
        "outputId": "8fe133e5-06fa-4504-91af-a6b4da8f5da9",
        "colab": {
          "base_uri": "https://localhost:8080/"
        }
      },
      "source": [
        "for x in fruits:\n",
        "  print(x)\n",
        "for x in \"bananas\":\n",
        "  print(x)"
      ],
      "execution_count": 28,
      "outputs": [
        {
          "output_type": "stream",
          "name": "stdout",
          "text": [
            "banana\n",
            "cherry1\n",
            "b\n",
            "a\n",
            "n\n",
            "a\n",
            "n\n",
            "e\n"
          ]
        }
      ]
    },
    {
      "cell_type": "markdown",
      "metadata": {
        "id": "apfyKFhtQt-v"
      },
      "source": [
        "**Break and Continue in a loop**\n",
        "\n",
        "continue is used to stop the current iteration, and continue with the next iteration while break is used to break out of the loop"
      ]
    },
    {
      "cell_type": "code",
      "metadata": {
        "id": "wztBLZJJWyOs",
        "outputId": "205a2476-93bd-4c84-b877-b08f652022c2",
        "colab": {
          "base_uri": "https://localhost:8080/"
        }
      },
      "source": [
        "dogs = [\"poodles\", \"beagles\", \"golden retreivers\", \"huskies\", \"bull dogs\"]\n",
        "for breed in dogs:\n",
        "  if breed == \"poodles\":\n",
        "    continue\n",
        "  if breed == \"huskies\":\n",
        "    break\n",
        "  print(breed)\n",
        "  "
      ],
      "execution_count": 31,
      "outputs": [
        {
          "output_type": "stream",
          "name": "stdout",
          "text": [
            "beagles\n",
            "golden retreivers\n"
          ]
        }
      ]
    },
    {
      "cell_type": "markdown",
      "metadata": {
        "id": "UXW4uEIjQuBh"
      },
      "source": [
        "**Nested for loops:**\n",
        "\n",
        "Nested for loops are used when we need to run a loop within a loop.\n"
      ]
    },
    {
      "cell_type": "code",
      "metadata": {
        "colab": {
          "base_uri": "https://localhost:8080/"
        },
        "id": "toGS11iAX1jy",
        "outputId": "1f1e877c-80db-4cf2-f07e-92790277ac6a"
      },
      "source": [
        "#For ex: consider a middle school which has 3 grades, 6, 7, 8\n",
        "\n",
        "grades = [6, 7, 8]\n",
        "\n",
        "#each grade has the same subjects. \n",
        "\n",
        "subjects = [\"math\", \"language arts\", \"PE\", \"Science\", \"Social Studies\"]\n",
        "\n",
        "#Printing all the courses that need to be taught.\n",
        "for eachGrade in grades:\n",
        "  for studentCount in subjects:\n",
        "    print(eachGrade, studentCount)\n",
        "\n"
      ],
      "execution_count": 37,
      "outputs": [
        {
          "output_type": "stream",
          "name": "stdout",
          "text": [
            "6 math\n",
            "6 language arts\n",
            "6 PE\n",
            "6 Science\n",
            "6 Social Studies\n",
            "7 math\n",
            "7 language arts\n",
            "7 PE\n",
            "7 Science\n",
            "7 Social Studies\n",
            "8 math\n",
            "8 language arts\n",
            "8 PE\n",
            "8 Science\n",
            "8 Social Studies\n"
          ]
        }
      ]
    },
    {
      "cell_type": "code",
      "metadata": {
        "colab": {
          "base_uri": "https://localhost:8080/"
        },
        "id": "vALMCMFCZrG_",
        "outputId": "4ff37885-6d26-4d7d-ed5d-1f32ca1fb6d2"
      },
      "source": [
        "#For ex: consider a middle school which has 3 grades, 6, 7, 8\n",
        "\n",
        "grades = [6, 7, 8]\n",
        "\n",
        "#each grade has different number of sections which have diff number of kids\n",
        "\n",
        "subjects = [\"math\", \"language arts\", \"PE\", \"Science\", \"Social Studies\"]\n",
        "\n",
        "# to count all the students per grade we need to run a loop within a loop\n",
        "\n",
        "total = []\n",
        "for eachGrade in grades:\n",
        "  for studentCount in studentCounts:\n",
        "    print(eachGrade, studentCount)\n",
        "\n",
        "\n"
      ],
      "execution_count": null,
      "outputs": [
        {
          "output_type": "stream",
          "name": "stdout",
          "text": [
            "6 40\n",
            "6 40\n",
            "6 39\n",
            "7 40\n",
            "7 40\n",
            "7 39\n",
            "8 40\n",
            "8 40\n",
            "8 39\n"
          ]
        }
      ]
    },
    {
      "cell_type": "markdown",
      "metadata": {
        "id": "FgOYnbwbQuFK"
      },
      "source": [
        ""
      ]
    },
    {
      "cell_type": "markdown",
      "metadata": {
        "id": "_ggEdX6IQuM4"
      },
      "source": [
        ""
      ]
    },
    {
      "cell_type": "markdown",
      "metadata": {
        "id": "NPUoY6nEQuRH"
      },
      "source": [
        ""
      ]
    },
    {
      "cell_type": "code",
      "metadata": {
        "colab": {
          "base_uri": "https://localhost:8080/"
        },
        "id": "xEgf1YXwOae8",
        "outputId": "3cbf63f9-0b53-44a0-a705-0f56b322a9d1"
      },
      "source": [
        "fruits = [\"banana\", \"cherry1\"]\n",
        "\n",
        "want = input('what fruit do you want to buy today?: ')\n",
        "if want in fruits :\n",
        "    print(\"Yes, \"+ want + \" found in List : \" , fruits)\n",
        "else:\n",
        "   print(\"No, \"+ want + \" not found in List : \" , fruits)"
      ],
      "execution_count": 7,
      "outputs": [
        {
          "output_type": "stream",
          "name": "stdout",
          "text": [
            "what fruit do you want to buy today?: cherry\n",
            "No, cherry not found in List :  ['banana', 'cherry1']\n"
          ]
        }
      ]
    },
    {
      "cell_type": "code",
      "metadata": {
        "colab": {
          "base_uri": "https://localhost:8080/"
        },
        "id": "8Uf58ivyOavr",
        "outputId": "58034a99-8fc5-4731-930b-8ad2b7adf2d1"
      },
      "source": [
        "user_list = ['amar12', 'parvez34', 'adam789', 'samtest456']\n",
        "if any(\"test1\" in s for s in user_list):\n",
        " print(\"found\");\n",
        "else:\n",
        " print(\"not found\")"
      ],
      "execution_count": 2,
      "outputs": [
        {
          "output_type": "stream",
          "name": "stdout",
          "text": [
            "not found\n"
          ]
        }
      ]
    },
    {
      "cell_type": "code",
      "metadata": {
        "colab": {
          "base_uri": "https://localhost:8080/"
        },
        "id": "C4wlpHdAPtWN",
        "outputId": "5f5ec53f-ddfb-4f1a-ce74-7b3b0eb559cf"
      },
      "source": [
        "user_list = ['amar12', 'parvez34', 'adam789', 'samtest456', \"test123\"]\n",
        "matching = [s for s in user_list if \"test\" in s]\n",
        "print(matching)"
      ],
      "execution_count": 8,
      "outputs": [
        {
          "output_type": "stream",
          "name": "stdout",
          "text": [
            "['samtest456', 'test123']\n"
          ]
        }
      ]
    }
  ]
}