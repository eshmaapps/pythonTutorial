{
  "nbformat": 4,
  "nbformat_minor": 0,
  "metadata": {
    "colab": {
      "name": "tutorial.ipynb",
      "provenance": [],
      "include_colab_link": true
    },
    "kernelspec": {
      "name": "python3",
      "display_name": "Python 3"
    },
    "language_info": {
      "name": "python"
    }
  },
  "cells": [
    {
      "cell_type": "markdown",
      "metadata": {
        "id": "view-in-github",
        "colab_type": "text"
      },
      "source": [
        "<a href=\"https://colab.research.google.com/github/eshmaapps/pythonTutorial/blob/main/tutorial.ipynb\" target=\"_parent\"><img src=\"https://colab.research.google.com/assets/colab-badge.svg\" alt=\"Open In Colab\"/></a>"
      ]
    },
    {
      "cell_type": "code",
      "metadata": {
        "id": "WF7TUtA-PZJ4"
      },
      "source": [
        "#This is a comment and will not get executed\n",
        "\"\"\"\n",
        "This is a multi-line comment \n",
        "And will also not get executed\n",
        "\"\"\""
      ],
      "execution_count": null,
      "outputs": []
    },
    {
      "cell_type": "code",
      "metadata": {
        "id": "ixEU2D1Yam4K"
      },
      "source": [
        "#Starting with a simple string\n",
        "print('Hello, world!')"
      ],
      "execution_count": null,
      "outputs": []
    },
    {
      "cell_type": "code",
      "source": [
        "#integers\n",
        "\n",
        "num = 10\n",
        "print(num)\n",
        "\n",
        "#Float/Decimals\n",
        "myDecimal = 101.123\n",
        "print(myDecimal)\n",
        "\n",
        "#Strings\n",
        "myString = \"hello\" + \" there\"\n",
        "print(myString)"
      ],
      "metadata": {
        "colab": {
          "base_uri": "https://localhost:8080/"
        },
        "id": "6XgvJlEUYuEg",
        "outputId": "552064fc-ae5c-4a6e-8a69-cb55daea4686"
      },
      "execution_count": 9,
      "outputs": [
        {
          "output_type": "stream",
          "name": "stdout",
          "text": [
            "10\n",
            "101.123\n",
            "hello there\n"
          ]
        }
      ]
    },
    {
      "cell_type": "code",
      "metadata": {
        "id": "8AdsAJdHfY4A"
      },
      "source": [
        "#Operators\n",
        "\n",
        "#Addition\n",
        "\n",
        "x = 2+2\n",
        "print(x)\n",
        "x = x + 10\n",
        "print(x)\n",
        "\n",
        "# Another way of adding to self\n",
        "x += 10\n",
        "print(x)\n",
        "\n",
        "#Subtraction\n",
        "x = 10-2\n",
        "print(x)\n",
        "x -= 5\n",
        "print(x)\n",
        "\n",
        "#Multiplication\n",
        "x = 4*5\n",
        "print(x)\n",
        "x *= 5\n",
        "print(x)\n",
        "\n",
        "\n",
        "#Division\n",
        "x = 5/4\n",
        "print(x)\n",
        "\n",
        "#Modulus\n",
        "\n",
        "x = 5%4\n",
        "print(x)\n",
        "\n",
        "#Exponentiation\n",
        "x = 5**2\n",
        "print(x)\n"
      ],
      "execution_count": null,
      "outputs": []
    },
    {
      "cell_type": "code",
      "metadata": {
        "id": "o8V8AqSaasAF",
        "colab": {
          "base_uri": "https://localhost:8080/"
        },
        "outputId": "779f6add-33a2-46b2-c030-5dcd2310fa25"
      },
      "source": [
        "x = 2/3\n",
        "print(f\"x = {x:.2f}\")"
      ],
      "execution_count": 7,
      "outputs": [
        {
          "output_type": "stream",
          "name": "stdout",
          "text": [
            "x = 0.67\n"
          ]
        }
      ]
    },
    {
      "cell_type": "code",
      "metadata": {
        "id": "m2JN9q8oaun8"
      },
      "source": [
        "#Variables\n",
        "x = 28\n",
        "y = \"I am a string!\"\n",
        "z = 'Double quotes or single quotes are ok!'\n",
        "print(x)\n",
        "print(y)\n",
        "print (z)\n",
        "print(type(y))\n",
        "#Variable types can be changed\n",
        "y = 10\n",
        "print(y)\n",
        "print(type(y))"
      ],
      "execution_count": null,
      "outputs": []
    },
    {
      "cell_type": "code",
      "metadata": {
        "colab": {
          "base_uri": "https://localhost:8080/"
        },
        "id": "Z97RfFyFayGD",
        "outputId": "e16538eb-3dd9-4b70-cc90-8013d72d9793"
      },
      "source": [
        "  #Casting of variables\n",
        "x = str(3)    # x will be '3'\n",
        "y = int(3)    # y will be 3\n",
        "z = float(3)  # z will be 3.0\n",
        "print(z)"
      ],
      "execution_count": null,
      "outputs": [
        {
          "output_type": "stream",
          "name": "stdout",
          "text": [
            "3.0\n"
          ]
        }
      ]
    },
    {
      "cell_type": "code",
      "metadata": {
        "colab": {
          "base_uri": "https://localhost:8080/"
        },
        "id": "6OorNWkxa17x",
        "outputId": "e3edf677-7b59-4182-db32-283743c29cdf"
      },
      "source": [
        "#Get variable type\n",
        "print(type(x))"
      ],
      "execution_count": null,
      "outputs": [
        {
          "output_type": "stream",
          "name": "stdout",
          "text": [
            "<class 'str'>\n"
          ]
        }
      ]
    },
    {
      "cell_type": "code",
      "metadata": {
        "colab": {
          "base_uri": "https://localhost:8080/"
        },
        "id": "xklM7GPVa4G6",
        "outputId": "218d5178-82fb-4f7d-b9bf-e3e9e5973513"
      },
      "source": [
        "#Case sensitive\n",
        "var1 = 10\n",
        "Var1 = 20\n",
        "print(var1)\n",
        "print(Var1)"
      ],
      "execution_count": null,
      "outputs": [
        {
          "output_type": "stream",
          "name": "stdout",
          "text": [
            "10\n",
            "20\n"
          ]
        }
      ]
    },
    {
      "cell_type": "code",
      "source": [
        "num1 = 1000\n",
        "num2 = 2000\n",
        "\n",
        "num3 = num1 +num2\n",
        "print(f\"{num3:,}\")"
      ],
      "metadata": {
        "colab": {
          "base_uri": "https://localhost:8080/"
        },
        "id": "cifkCOS0XdDi",
        "outputId": "462cca17-af28-4337-b8e3-5f974f774518"
      },
      "execution_count": 3,
      "outputs": [
        {
          "output_type": "stream",
          "name": "stdout",
          "text": [
            "3,000\n"
          ]
        }
      ]
    },
    {
      "cell_type": "code",
      "source": [
        "#Formatting strings for diff data types\n",
        "age = 1\n",
        "txt = \"My name is Jax, and I am {}\"\n",
        "print(txt.format(age))\n",
        "\n",
        "\n",
        "print(f\" I am {age}\")"
      ],
      "metadata": {
        "colab": {
          "base_uri": "https://localhost:8080/"
        },
        "id": "k59Mq0wqX_S3",
        "outputId": "5037c779-5cc8-42c5-f680-a76013a56d0a"
      },
      "execution_count": 5,
      "outputs": [
        {
          "output_type": "stream",
          "name": "stdout",
          "text": [
            "My name is Jax, and I am 1\n",
            " I am 1\n"
          ]
        }
      ]
    },
    {
      "cell_type": "code",
      "metadata": {
        "id": "AiAnPpkca5jF"
      },
      "source": [
        "\n",
        "#Variable namimg convention\n",
        "\"\"\"\n",
        "A variable can have a short name (like x and y) or a more descriptive name (age, carname, total_volume). \n",
        "Rules for Python variables:\n",
        "1. A variable name must start with a letter or the underscore character\n",
        "2. A variable name cannot start with a number\n",
        "3. A variable name can only contain alpha-numeric characters and underscores (A-z, 0-9, and _ )\n",
        "4. Variable names are case-sensitive (age, Age and AGE are three different variables)\n",
        "\"\"\""
      ],
      "execution_count": null,
      "outputs": []
    },
    {
      "cell_type": "code",
      "metadata": {
        "id": "KB98NZDfa7Un"
      },
      "source": [
        "#Camel case \n",
        "camelCase = \"This is a string variable in camel case format\"\n",
        "#Snake case\n",
        "snake_case_format_string = \"This is a snake case format. Which do you like best?\""
      ],
      "execution_count": null,
      "outputs": []
    },
    {
      "cell_type": "code",
      "metadata": {
        "id": "paeqKCSYa85H",
        "colab": {
          "base_uri": "https://localhost:8080/"
        },
        "outputId": "9c9f5cad-aad2-4fe2-f5f9-901361096946"
      },
      "source": [
        "#Many Values to Multiple Variables\n",
        "\n",
        "x = \"a\"\n",
        "\n",
        "y = \"b\"\n",
        "\n",
        "z = \"c\"\n",
        "x, y, z = \"a\", \"b\", \"c\"\n",
        "print(x)\n",
        "print(y)\n",
        "print(z)"
      ],
      "execution_count": null,
      "outputs": [
        {
          "output_type": "stream",
          "name": "stdout",
          "text": [
            "a\n",
            "b\n",
            "c\n"
          ]
        }
      ]
    },
    {
      "cell_type": "code",
      "source": [
        "sids_pet, valsPet, garimaPet, vihaans_pet = \"bunny\", \"bird\", \"dog\", \"none\""
      ],
      "metadata": {
        "id": "OKS6Pz5Zvuae"
      },
      "execution_count": null,
      "outputs": []
    },
    {
      "cell_type": "code",
      "metadata": {
        "id": "IuY3DC22a-gP",
        "colab": {
          "base_uri": "https://localhost:8080/"
        },
        "outputId": "5128b5e3-c932-46ce-92ab-75d8012ca79f"
      },
      "source": [
        "#One Value to Multiple Variables\n",
        "x = y = z = \"b\"\n",
        "print(x)\n",
        "print(y)\n",
        "print(z)"
      ],
      "execution_count": null,
      "outputs": [
        {
          "output_type": "stream",
          "name": "stdout",
          "text": [
            "b\n",
            "b\n",
            "b\n"
          ]
        }
      ]
    },
    {
      "cell_type": "code",
      "metadata": {
        "id": "rMupCSc0bE3U",
        "colab": {
          "base_uri": "https://localhost:8080/"
        },
        "outputId": "b6486e78-75a7-46b3-af92-8c52703786af"
      },
      "source": [
        "#using arrays\n",
        "letters = [\"a\", \"b\", \"c\", \"d\", 3.0, 68 , [3, 4, 5] ]\n",
        "x, y, z, a, b, c, d = letters\n",
        "print(x)\n",
        "print(y)\n",
        "print(z)\n",
        "print(a)\n",
        "print(type(letters))"
      ],
      "execution_count": null,
      "outputs": [
        {
          "output_type": "stream",
          "name": "stdout",
          "text": [
            "a\n",
            "b\n",
            "c\n",
            "d\n",
            "<class 'list'>\n"
          ]
        }
      ]
    },
    {
      "cell_type": "code",
      "metadata": {
        "id": "mjV-zuXpc2uL"
      },
      "source": [
        "name = input('What is your name?')\n",
        "print(\"hello \" + name)"
      ],
      "execution_count": null,
      "outputs": []
    },
    {
      "cell_type": "code",
      "metadata": {
        "colab": {
          "base_uri": "https://localhost:8080/"
        },
        "id": "MASP_gXobGa2",
        "outputId": "bf62e0d5-9e43-42c9-9fae-37439f491d52"
      },
      "source": [
        "#Outputting variables using print\n",
        "string1 = \"good\"\n",
        "print(\"vihaan  = \"+ string1)\n",
        "\n",
        "#concatenating strings\n",
        "string2 = \"Life is\"\n",
        "string3 = \"good\"\n",
        "finalString = string2 + string3\n",
        "print (finalString)"
      ],
      "execution_count": null,
      "outputs": [
        {
          "output_type": "stream",
          "name": "stdout",
          "text": [
            "vihAan  = good\n",
            "Life isgood\n"
          ]
        }
      ]
    },
    {
      "cell_type": "code",
      "metadata": {
        "colab": {
          "base_uri": "https://localhost:8080/"
        },
        "id": "rGkY91LhbIKB",
        "outputId": "86029e93-5440-443c-cc2d-89f7489412a5"
      },
      "source": [
        "x = \"The value of pi is \"\n",
        "y = 3.14\n",
        "z = x + str(y)\n",
        "print(z)"
      ],
      "execution_count": null,
      "outputs": [
        {
          "output_type": "stream",
          "name": "stdout",
          "text": [
            "The value of pi is 3.14\n"
          ]
        }
      ]
    },
    {
      "cell_type": "markdown",
      "metadata": {
        "id": "gByRbMUWQtfv"
      },
      "source": [
        "**Logical operators:**\n",
        "\n",
        "Equals: a == b\n",
        "\n",
        "Not Equals: a != b\n",
        "\n",
        "Less than: a < b\n",
        "\n",
        "Less than or equal to: a <= b\n",
        "\n",
        "Greater than: a > b\n",
        "\n",
        "*Greater* than or equal to: a >= b\n"
      ]
    },
    {
      "cell_type": "markdown",
      "metadata": {
        "id": "ZEEQlO4jQtqX"
      },
      "source": [
        "**Conditional statements:**\n",
        "\n",
        "\n",
        "if, elif, else"
      ]
    },
    {
      "cell_type": "code",
      "source": [
        "#Indentation. When we have conditional statements such as if/else or loops such as for/while, the code that needs to run within each section should be indented equally. \n",
        "# You can use a tab or spaces. When there are no more indentations, python will know that the loop/if section is complete.\n",
        "if 1 > 0:\n",
        "\tprint(\"It's a beautiful world!\")\n",
        "print(\"It's a beautiful world still!\")"
      ],
      "metadata": {
        "id": "1Mv5JSqfYbPi"
      },
      "execution_count": null,
      "outputs": []
    },
    {
      "cell_type": "code",
      "metadata": {
        "colab": {
          "base_uri": "https://localhost:8080/"
        },
        "id": "bUsqYq2wSIle",
        "outputId": "0c4b1547-d52d-4f63-9b1b-f77f5ef4a88b"
      },
      "source": [
        "#logical operation 'and', 'or' to run multiple statements\n",
        "\n",
        "x = 160\n",
        "y = 50\n",
        "z = 90\n",
        "\n",
        "if x ==y or x < 150:\n",
        "  print (\"x = y or < 150\")\n",
        "elif x!=z and x == 100:\n",
        "  print (\"z is not 100\")\n",
        "else:\n",
        "  print(\"nothing matched!\")\n",
        "\n"
      ],
      "execution_count": null,
      "outputs": [
        {
          "output_type": "stream",
          "name": "stdout",
          "text": [
            "nothing matched!\n"
          ]
        }
      ]
    },
    {
      "cell_type": "code",
      "metadata": {
        "colab": {
          "base_uri": "https://localhost:8080/"
        },
        "id": "OCZkGaz5RR_M",
        "outputId": "ce9fb125-7e48-49c3-fc02-8cfd8dc65837"
      },
      "source": [
        "#Comparing 2 numbers\n",
        "\n",
        "a = 600\n",
        "b = 600\n",
        "\n",
        "if a< b:\n",
        "  print(\"A is less than b\")\n",
        "elif a == b:\n",
        "  print (\"A is equal to b\")\n",
        "else:\n",
        "  print (\"A is greater than b\")\n",
        "\n"
      ],
      "execution_count": null,
      "outputs": [
        {
          "output_type": "stream",
          "name": "stdout",
          "text": [
            "A is equal to b\n"
          ]
        }
      ]
    },
    {
      "cell_type": "markdown",
      "metadata": {
        "id": "FgOYnbwbQuFK"
      },
      "source": [
        "**Functions are awesome!!**\n",
        "\n",
        "\n",
        "\n",
        "\n",
        "They allow us to create small sections of code that can be called from other functions"
      ]
    },
    {
      "cell_type": "code",
      "metadata": {
        "colab": {
          "base_uri": "https://localhost:8080/"
        },
        "id": "7qZGG0Ktbe-X",
        "outputId": "28a2adfc-f3cc-4bfb-f7b7-abbf8d2b72df"
      },
      "source": [
        "def myAwesomeFunctionThatDoesntDoMuch():\n",
        "  print (\"Hello there\")\n",
        "\n",
        "myAwesomeFunctionThatDoesntDoMuch()\n"
      ],
      "execution_count": null,
      "outputs": [
        {
          "output_type": "stream",
          "name": "stdout",
          "text": [
            "Hello there\n"
          ]
        }
      ]
    },
    {
      "cell_type": "code",
      "source": [
        "#Functions taking values\n",
        "\n",
        "\n",
        "def add2numbers(x, y):\n",
        "  return x+y\n",
        "\n",
        "add2numbers(10, 40)"
      ],
      "metadata": {
        "colab": {
          "base_uri": "https://localhost:8080/"
        },
        "id": "BUlrKBxgaLuL",
        "outputId": "a2bb3c8d-425e-4a12-a534-e3edef33a7a2"
      },
      "execution_count": 10,
      "outputs": [
        {
          "output_type": "execute_result",
          "data": {
            "text/plain": [
              "50"
            ]
          },
          "metadata": {},
          "execution_count": 10
        }
      ]
    },
    {
      "cell_type": "code",
      "source": [
        "#Functions taking values\n",
        "\n",
        "\n",
        "def sayHello(x=\"world\"):\n",
        "  print (\"Hello \" + x)\n",
        "\n",
        "sayHello(\"Garima\")\n",
        "sayHello()"
      ],
      "metadata": {
        "colab": {
          "base_uri": "https://localhost:8080/"
        },
        "id": "EnfZcSjTaXOo",
        "outputId": "7ffadb20-4a8a-4853-d7f4-076a8d8ea2e5"
      },
      "execution_count": 11,
      "outputs": [
        {
          "output_type": "stream",
          "name": "stdout",
          "text": [
            "Hello Garima\n",
            "Hello world\n"
          ]
        }
      ]
    },
    {
      "cell_type": "code",
      "metadata": {
        "id": "HZ-7milRbPRg",
        "colab": {
          "base_uri": "https://localhost:8080/"
        },
        "outputId": "126651ac-8747-4bc2-cbba-2e730334914c"
      },
      "source": [
        "#Functions continued.\n",
        "\n",
        "#Here x is defined as a global variable in the main section of the code\n",
        "# Therefore, this is global scope\n",
        "x = \"awesome\"\n",
        "\n",
        "def myfunc():\n",
        "  #Here x is being overwritten by a local value in a function\n",
        "  #Therefore it's local scope.\n",
        "  x = \"fantastic\"\n",
        "  print(\"Life is \" + x)\n",
        "\n",
        "myfunc()\n",
        "\n",
        "print(\"Life is \" + x)\n",
        "\n"
      ],
      "execution_count": null,
      "outputs": [
        {
          "output_type": "stream",
          "name": "stdout",
          "text": [
            "Life is fantastic\n",
            "Life is awesome\n"
          ]
        }
      ]
    },
    {
      "cell_type": "code",
      "source": [
        "# THE MAIN Function\n",
        "\n",
        "def main():\n",
        "  name = input(\"who do you want to say hello to? \")\n",
        "  hello(name)\n",
        "\n",
        "def hello(there = \"world\"):\n",
        "    print (\"Hello. \" + there)\n",
        "\n",
        "main()\n"
      ],
      "metadata": {
        "colab": {
          "base_uri": "https://localhost:8080/"
        },
        "id": "5mXHyqo7bjQK",
        "outputId": "542882bf-0e30-4e1d-cd2f-362ea6a81040"
      },
      "execution_count": 14,
      "outputs": [
        {
          "output_type": "stream",
          "name": "stdout",
          "text": [
            "who do you want to say hello to? me\n",
            "Hellome\n"
          ]
        }
      ]
    },
    {
      "cell_type": "code",
      "source": [
        "#Returns\n",
        "# a function can perform some actions and return the final result\n",
        "\n",
        "def squareCalculator(num):\n",
        "  return (num*num)\n",
        "\n",
        "def main():\n",
        "  x = int(input(\"What number to square\"))\n",
        "  result = squareCalculator(x)\n",
        "  print(f\"square of {x} is {result}\")\n",
        "\n",
        "\n",
        "main()"
      ],
      "metadata": {
        "colab": {
          "base_uri": "https://localhost:8080/"
        },
        "id": "UToCzn4Hb_W1",
        "outputId": "2e61a115-d9c8-4346-b752-d547469ea7dc"
      },
      "execution_count": 18,
      "outputs": [
        {
          "output_type": "stream",
          "name": "stdout",
          "text": [
            "What number to square0\n",
            "square of 0 is 0\n"
          ]
        }
      ]
    },
    {
      "cell_type": "code",
      "source": [
        ""
      ],
      "metadata": {
        "id": "-RTCE1F5uz_G"
      },
      "execution_count": null,
      "outputs": []
    },
    {
      "cell_type": "code",
      "source": [
        "def check_user_input(input):\n",
        "    try:\n",
        "        # Convert it into integer\n",
        "        val = int(input)\n",
        "        print(\"Input is an integer number. Number = \", val)\n",
        "        return True\n",
        "    except ValueError:\n",
        "        try:\n",
        "            # Convert it into float\n",
        "            val = float(input)\n",
        "            print(\"Input is a float  number. Number = \", val)\n",
        "            return False\n",
        "        except ValueError:\n",
        "            print(\"No.. input is not a number. It's a string\")\n",
        "            return False\n",
        "success = False\n",
        "while success != True:\n",
        "  success = check_user_input(input(\"num = \"))"
      ],
      "metadata": {
        "colab": {
          "base_uri": "https://localhost:8080/"
        },
        "id": "ilDIFcw2CjsH",
        "outputId": "b245c33b-5d28-4151-e583-251aa0ed9b57"
      },
      "execution_count": null,
      "outputs": [
        {
          "output_type": "stream",
          "name": "stdout",
          "text": [
            "num = hi\n",
            "No.. input is not a number. It's a string\n",
            "num = 6.0\n",
            "Input is a float  number. Number =  6.0\n",
            "num = 8\n",
            "Input is an integer number. Number =  8\n"
          ]
        }
      ]
    },
    {
      "cell_type": "code",
      "source": [
        "#A function can call other functions and ITSELF! its called recursion. \n",
        "#But you have to be careful else your program will run forever and eventually run out of memory.\n",
        "\n",
        "def recursive(number):\n",
        "  print (number)\n",
        "  print (\".........\")\n",
        "  command = input(\"enter a command\")\n",
        "  if(command == \"stop\"):\n",
        "    print(number)\n",
        "    return\n",
        "  \n",
        "  recursive(number+1)\n",
        "  print (number)\n",
        "\n",
        "\n",
        "recursive(0)"
      ],
      "metadata": {
        "id": "sj54CrwAt_Fy"
      },
      "execution_count": null,
      "outputs": []
    },
    {
      "cell_type": "markdown",
      "metadata": {
        "id": "uQyKUl3RQt8E"
      },
      "source": [
        "**For loops**\n",
        "\n",
        "A for loop is used for iterating over a sequence such as a list or dictionary , tuple, set or string. Whatever is within the for loop, will get executed once for each item in the sequence.\n",
        "\n"
      ]
    },
    {
      "cell_type": "code",
      "metadata": {
        "colab": {
          "base_uri": "https://localhost:8080/"
        },
        "id": "d2XWb2D-VW2L",
        "outputId": "8fe133e5-06fa-4504-91af-a6b4da8f5da9"
      },
      "source": [
        "fruits = [\"banana\", \"cherry\"]\n",
        "\n",
        "for x in fruits:\n",
        "  print(x)\n",
        "for x in \"bananas\":\n",
        "  print(x)"
      ],
      "execution_count": null,
      "outputs": [
        {
          "output_type": "stream",
          "name": "stdout",
          "text": [
            "banana\n",
            "cherry1\n",
            "b\n",
            "a\n",
            "n\n",
            "a\n",
            "n\n",
            "e\n"
          ]
        }
      ]
    },
    {
      "cell_type": "code",
      "source": [
        "#While versus for loops\n",
        "\n",
        "# While loops are used when the looping needs to continue till a condition becomes true (or false)\n",
        "#For loop is an iteration over a set of objects\n",
        "\n",
        "myString = \"Aloha\"\n",
        "for x in myString:\n",
        "  print(x)\n",
        "\n",
        "\n",
        "index = 0\n",
        "while index < len(myString):\n",
        "  print(myString[index])\n",
        "  index = index +1\n",
        "\n"
      ],
      "metadata": {
        "id": "XtEoTk_ws088"
      },
      "execution_count": null,
      "outputs": []
    },
    {
      "cell_type": "code",
      "source": [
        "print(\"hello\\n\" *3)"
      ],
      "metadata": {
        "colab": {
          "base_uri": "https://localhost:8080/"
        },
        "id": "6VngoDrUu1us",
        "outputId": "7c92c568-e1bb-411e-f593-ec953cd9a445"
      },
      "execution_count": 19,
      "outputs": [
        {
          "output_type": "stream",
          "name": "stdout",
          "text": [
            "hello\n",
            "hello\n",
            "hello\n",
            "\n"
          ]
        }
      ]
    },
    {
      "cell_type": "code",
      "metadata": {
        "colab": {
          "base_uri": "https://localhost:8080/"
        },
        "id": "QZMNt1NLc9xn",
        "outputId": "f188a7a8-5139-47ea-ab2d-53a6ad50128f"
      },
      "source": [
        "\n",
        "a = \"Amsterdam!\"\n",
        "print(a[1])\n",
        "for x in \"Aloha\":\n",
        "  print(x)\n",
        "\n",
        "print(len(a))"
      ],
      "execution_count": null,
      "outputs": [
        {
          "output_type": "stream",
          "name": "stdout",
          "text": [
            "m\n",
            "A\n",
            "l\n",
            "o\n",
            "h\n",
            "a\n",
            "10\n"
          ]
        }
      ]
    },
    {
      "cell_type": "code",
      "metadata": {
        "colab": {
          "base_uri": "https://localhost:8080/"
        },
        "id": "-iqIxY-Rb3jK",
        "outputId": "51f807e9-9c41-4ac7-b430-059f5072c3f0"
      },
      "source": [
        "#Get the characters from position 2 to position 5 (not included):\n",
        "b = \"Applesauce!\"\n",
        "print(b[2:5])\n",
        "#From beginning\n",
        "print(b[:5])\n",
        "#To end\n",
        "print(b[2:])\n",
        "#From end of the string\n",
        "print(b[-5:-2])"
      ],
      "execution_count": null,
      "outputs": [
        {
          "output_type": "stream",
          "name": "stdout",
          "text": [
            "ple\n",
            "Apple\n",
            "plesauce!\n",
            "auc\n"
          ]
        }
      ]
    },
    {
      "cell_type": "code",
      "metadata": {
        "colab": {
          "base_uri": "https://localhost:8080/"
        },
        "id": "5KiiX9i4b5E_",
        "outputId": "d4a203d5-0811-4632-ae62-135bca29ca4b"
      },
      "source": [
        "\n",
        "#Other operations such as upper case, lower case, trimming spaces, replacing words and splitting \n",
        "a = \" I am a fancy string \"\n",
        "print(a.upper())\n",
        "print(a.lower())\n",
        "print(a.strip()) \n",
        "print(a.replace(\"fancy\", \"simple\"))\n",
        "print(a.split(\" \"))\n"
      ],
      "execution_count": null,
      "outputs": [
        {
          "output_type": "stream",
          "name": "stdout",
          "text": [
            " I AM A FANCY STRING \n",
            " i am a fancy string \n",
            "I am a fancy string\n",
            " I am a simple string \n",
            "['', 'I', 'am', 'a', 'fancy', 'string', '']\n"
          ]
        }
      ]
    },
    {
      "cell_type": "code",
      "metadata": {
        "colab": {
          "base_uri": "https://localhost:8080/"
        },
        "id": "hLzdAAuPb6Wq",
        "outputId": "2b97b457-e496-4928-d45f-e182700e16a4"
      },
      "source": [
        ""
      ],
      "execution_count": null,
      "outputs": [
        {
          "output_type": "stream",
          "name": "stdout",
          "text": [
            "My name is Jax, and I am 1\n",
            "I want 10 tomatoes for $12 dollars please in 1 hour(s).\n"
          ]
        }
      ]
    },
    {
      "cell_type": "code",
      "metadata": {
        "id": "_wZz0N1Scx74"
      },
      "source": [
        "\n",
        "quantity = 10\n",
        "item = \"tomatoes\"\n",
        "price = 12\n",
        "time = 1\n",
        "myorder = \"I want {} {} for ${} dollars please in {} hour(s).\"\n",
        "print(myorder.format(quantity, item, price, time))\n"
      ],
      "execution_count": null,
      "outputs": []
    },
    {
      "cell_type": "code",
      "metadata": {
        "id": "7OhbT2qicz2c"
      },
      "source": [
        "txt = \"We are the so-called \\\"Vikings\\\" from the north.\""
      ],
      "execution_count": null,
      "outputs": []
    },
    {
      "cell_type": "markdown",
      "metadata": {
        "id": "3Besu0zLQtuz"
      },
      "source": [
        "**While and For loops to execute a set of code multiple times! **"
      ]
    },
    {
      "cell_type": "code",
      "metadata": {
        "colab": {
          "base_uri": "https://localhost:8080/"
        },
        "id": "L6bMDfCLS9ew",
        "outputId": "3e8b6c23-0d51-428e-cd8d-198a9344b005"
      },
      "source": [
        "#print squares of numbers\n",
        "counter = 1\n",
        "while counter < 10:\n",
        "  print(counter**2)\n",
        "  counter += 1\n",
        "else:\n",
        "  print(\"all done!\")"
      ],
      "execution_count": null,
      "outputs": [
        {
          "output_type": "stream",
          "name": "stdout",
          "text": [
            "1\n",
            "4\n",
            "9\n",
            "16\n",
            "25\n",
            "36\n",
            "49\n",
            "64\n",
            "81\n",
            "all done!\n"
          ]
        }
      ]
    },
    {
      "cell_type": "markdown",
      "metadata": {
        "id": "g9Mh0bXpQt5D"
      },
      "source": [
        "**Break and Continue in a loop**\n",
        "\n",
        "continue is used to stop the current iteration, and continue with the next iteration while break is used to break out of the loop"
      ]
    },
    {
      "cell_type": "code",
      "metadata": {
        "colab": {
          "base_uri": "https://localhost:8080/"
        },
        "id": "ewgNP1HFT35S",
        "outputId": "e7234b5e-677b-451d-b6a8-ba86661f939f"
      },
      "source": [
        "#print squares of numbers but skip even numbers\n",
        "\n",
        "counter = 0\n",
        "while counter < 10:\n",
        "  counter += 1\n",
        "  if counter%2 == 0:\n",
        "    continue\n",
        "  \n",
        "  if counter == 7:\n",
        "      break\n",
        "  print(counter**2)"
      ],
      "execution_count": null,
      "outputs": [
        {
          "output_type": "stream",
          "name": "stdout",
          "text": [
            "1\n",
            "9\n",
            "25\n"
          ]
        }
      ]
    },
    {
      "cell_type": "markdown",
      "metadata": {
        "id": "apfyKFhtQt-v"
      },
      "source": [
        "**Break and Continue in a loop**\n",
        "\n",
        "continue is used to stop the current iteration, and continue with the next iteration while break is used to break out of the loop"
      ]
    },
    {
      "cell_type": "code",
      "metadata": {
        "colab": {
          "base_uri": "https://localhost:8080/"
        },
        "id": "wztBLZJJWyOs",
        "outputId": "205a2476-93bd-4c84-b877-b08f652022c2"
      },
      "source": [
        "dogs = [\"poodles\", \"beagles\", \"golden retreivers\", \"huskies\", \"bull dogs\"]\n",
        "for breed in dogs:\n",
        "  if breed == \"poodles\":\n",
        "    continue\n",
        "  if breed == \"huskies\":\n",
        "    break\n",
        "  print(breed)\n",
        "  "
      ],
      "execution_count": null,
      "outputs": [
        {
          "output_type": "stream",
          "name": "stdout",
          "text": [
            "beagles\n",
            "golden retreivers\n"
          ]
        }
      ]
    },
    {
      "cell_type": "markdown",
      "metadata": {
        "id": "UXW4uEIjQuBh"
      },
      "source": [
        "**Nested for loops:**\n",
        "\n",
        "Nested for loops are used when we need to run a loop within a loop.\n"
      ]
    },
    {
      "cell_type": "code",
      "metadata": {
        "colab": {
          "base_uri": "https://localhost:8080/"
        },
        "id": "toGS11iAX1jy",
        "outputId": "1f1e877c-80db-4cf2-f07e-92790277ac6a"
      },
      "source": [
        "#For ex: consider a middle school which has 3 grades, 6, 7, 8\n",
        "\n",
        "grades = [6, 7, 8]\n",
        "\n",
        "#each grade has the same subjects. \n",
        "\n",
        "subjects = [\"math\", \"language arts\", \"PE\", \"Science\", \"Social Studies\"]\n",
        "\n",
        "#Printing all the courses that need to be taught.\n",
        "for eachGrade in grades:\n",
        "  for studentCount in subjects:\n",
        "    print(eachGrade, studentCount)\n",
        "\n"
      ],
      "execution_count": null,
      "outputs": [
        {
          "output_type": "stream",
          "name": "stdout",
          "text": [
            "6 math\n",
            "6 language arts\n",
            "6 PE\n",
            "6 Science\n",
            "6 Social Studies\n",
            "7 math\n",
            "7 language arts\n",
            "7 PE\n",
            "7 Science\n",
            "7 Social Studies\n",
            "8 math\n",
            "8 language arts\n",
            "8 PE\n",
            "8 Science\n",
            "8 Social Studies\n"
          ]
        }
      ]
    },
    {
      "cell_type": "code",
      "metadata": {
        "colab": {
          "base_uri": "https://localhost:8080/"
        },
        "id": "vALMCMFCZrG_",
        "outputId": "4ff37885-6d26-4d7d-ed5d-1f32ca1fb6d2"
      },
      "source": [
        "#For ex: consider a middle school which has 3 grades, 6, 7, 8\n",
        "\n",
        "grades = [6, 7, 8]\n",
        "\n",
        "#each grade has different number of sections which have diff number of kids\n",
        "\n",
        "subjects = [\"math\", \"language arts\", \"PE\", \"Science\", \"Social Studies\"]\n",
        "\n",
        "# to count all the students per grade we need to run a loop within a loop\n",
        "\n",
        "total = []\n",
        "for eachGrade in grades:\n",
        "  for studentCount in studentCounts:\n",
        "    print(eachGrade, studentCount)\n",
        "\n",
        "\n"
      ],
      "execution_count": null,
      "outputs": [
        {
          "output_type": "stream",
          "name": "stdout",
          "text": [
            "6 40\n",
            "6 40\n",
            "6 39\n",
            "7 40\n",
            "7 40\n",
            "7 39\n",
            "8 40\n",
            "8 40\n",
            "8 39\n"
          ]
        }
      ]
    },
    {
      "cell_type": "code",
      "metadata": {
        "id": "F-uIjAcxdyMt"
      },
      "source": [
        "# functions can take arguments and return a value back to the call like below.\n",
        "\n",
        "def myAwesomeFunction(x, y):\n",
        "  return (x+y)\n",
        "\n",
        "\n",
        "print(myAwesomeFunction (20, 30))\n",
        "print(myAwesomeFunction (20, -6))\n"
      ],
      "execution_count": null,
      "outputs": []
    },
    {
      "cell_type": "code",
      "metadata": {
        "id": "uSwMnSA7d10l"
      },
      "source": [
        "#If the number of arguments could be variable we can use a wild card.\n",
        "def myAwesomeFunction2(*args):\n",
        "  for argumentX in args:\n",
        "    print(argumentX)\n",
        "\n",
        "myAwesomeFunction2(\"a\", \"b\", \"c\")\n",
        "myAwesomeFunction2(1, 2)"
      ],
      "execution_count": null,
      "outputs": []
    },
    {
      "cell_type": "markdown",
      "metadata": {
        "id": "_ggEdX6IQuM4"
      },
      "source": [
        ""
      ]
    },
    {
      "cell_type": "markdown",
      "metadata": {
        "id": "NPUoY6nEQuRH"
      },
      "source": [
        ""
      ]
    },
    {
      "cell_type": "code",
      "metadata": {
        "colab": {
          "base_uri": "https://localhost:8080/"
        },
        "id": "xEgf1YXwOae8",
        "outputId": "3cbf63f9-0b53-44a0-a705-0f56b322a9d1"
      },
      "source": [
        "fruits = [\"banana\", \"cherry1\"]\n",
        "\n",
        "want = input('what fruit do you want to buy today?: ')\n",
        "if want in fruits :\n",
        "    print(\"Yes, \"+ want + \" found in List : \" , fruits)\n",
        "else:\n",
        "   print(\"No, \"+ want + \" not found in List : \" , fruits)"
      ],
      "execution_count": null,
      "outputs": [
        {
          "output_type": "stream",
          "name": "stdout",
          "text": [
            "what fruit do you want to buy today?: cherry\n",
            "No, cherry not found in List :  ['banana', 'cherry1']\n"
          ]
        }
      ]
    },
    {
      "cell_type": "code",
      "metadata": {
        "colab": {
          "base_uri": "https://localhost:8080/"
        },
        "id": "8Uf58ivyOavr",
        "outputId": "58034a99-8fc5-4731-930b-8ad2b7adf2d1"
      },
      "source": [
        "user_list = ['amar12', 'parvez34', 'adam789', 'samtest456']\n",
        "if any(\"test1\" in s for s in user_list):\n",
        " print(\"found\");\n",
        "else:\n",
        " print(\"not found\")"
      ],
      "execution_count": null,
      "outputs": [
        {
          "output_type": "stream",
          "name": "stdout",
          "text": [
            "not found\n"
          ]
        }
      ]
    },
    {
      "cell_type": "code",
      "metadata": {
        "colab": {
          "base_uri": "https://localhost:8080/"
        },
        "id": "C4wlpHdAPtWN",
        "outputId": "5f5ec53f-ddfb-4f1a-ce74-7b3b0eb559cf"
      },
      "source": [
        "user_list = ['amar12', 'parvez34', 'adam789', 'samtest456', \"test123\"]\n",
        "matching = [s for s in user_list if \"test\" in s]\n",
        "print(matching)"
      ],
      "execution_count": null,
      "outputs": [
        {
          "output_type": "stream",
          "name": "stdout",
          "text": [
            "['samtest456', 'test123']\n"
          ]
        }
      ]
    },
    {
      "cell_type": "code",
      "source": [
        "#lists\n",
        "\n",
        "students = [\n",
        "            {\"name\": \"James\", \"game\":\"Volley\", \"Subject\":\"math\"},\n",
        "             {\"name\": \"Julia\", \"game\":\"Volley\", \"Subject\":\"science\"},\n",
        "              {\"name\": \"garima\", \"game\":\"nothing\", \"Subject\":\"Ai\"}]\n",
        "for i in students:\n",
        "  print(i[\"name\"], i[\"game\"], i[\"Subject\"])"
      ],
      "metadata": {
        "id": "vlVvWJ0J0nTW",
        "outputId": "bcaa810f-929c-48b6-cbc6-98433a45225d",
        "colab": {
          "base_uri": "https://localhost:8080/"
        }
      },
      "execution_count": 33,
      "outputs": [
        {
          "output_type": "stream",
          "name": "stdout",
          "text": [
            "James Volley math\n",
            "Julia Volley science\n",
            "garima nothing Ai\n"
          ]
        }
      ]
    },
    {
      "cell_type": "code",
      "source": [
        "#File operations\n",
        "\n",
        "open_file = open('file_to_save.txt', 'w')\n",
        "open_file.write('A string to write')\n",
        "open_file.close()\n",
        "\n",
        "open__ = open('file_to_save.txt', 'r')\n",
        "print(open__.read())\n",
        "open__.close()"
      ],
      "metadata": {
        "id": "CEPKRR0Nzdt-"
      },
      "execution_count": null,
      "outputs": []
    }
  ]
}