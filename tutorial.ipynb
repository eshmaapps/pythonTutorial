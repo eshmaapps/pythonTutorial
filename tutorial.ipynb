{
  "nbformat": 4,
  "nbformat_minor": 0,
  "metadata": {
    "colab": {
      "name": "tutorial.ipynb",
      "provenance": [],
      "authorship_tag": "ABX9TyNB3Qt5aNgz03PrSjgWHthf",
      "include_colab_link": true
    },
    "kernelspec": {
      "name": "python3",
      "display_name": "Python 3"
    },
    "language_info": {
      "name": "python"
    }
  },
  "cells": [
    {
      "cell_type": "markdown",
      "metadata": {
        "id": "view-in-github",
        "colab_type": "text"
      },
      "source": [
        "<a href=\"https://colab.research.google.com/github/eshmaapps/pythonTutorial/blob/main/tutorial.ipynb\" target=\"_parent\"><img src=\"https://colab.research.google.com/assets/colab-badge.svg\" alt=\"Open In Colab\"/></a>"
      ]
    },
    {
      "cell_type": "code",
      "metadata": {
        "id": "WF7TUtA-PZJ4"
      },
      "source": [
        "#This is a comment and will not get executed\n",
        "\"\"\"\n",
        "This is a multi-line comment \n",
        "And will also not get executed\n",
        "\"\"\""
      ],
      "execution_count": null,
      "outputs": []
    },
    {
      "cell_type": "code",
      "metadata": {
        "id": "ixEU2D1Yam4K"
      },
      "source": [
        "#Starting with a simple string\n",
        "print('Hello, world!')"
      ],
      "execution_count": null,
      "outputs": []
    },
    {
      "cell_type": "code",
      "metadata": {
        "id": "8AdsAJdHfY4A"
      },
      "source": [
        "x = 2+2\n",
        "print(x)\n",
        "x = x + 10\n",
        "print(x)\n",
        "x = 4*5\n",
        "print(x)\n"
      ],
      "execution_count": null,
      "outputs": []
    },
    {
      "cell_type": "code",
      "metadata": {
        "id": "o8V8AqSaasAF"
      },
      "source": [
        "#Indentation\n",
        "if 1 > 0:\n",
        "\tprint(\"It's a beautiful world!\")\n",
        "print(\"It's a beautiful world still!\")"
      ],
      "execution_count": null,
      "outputs": []
    },
    {
      "cell_type": "code",
      "metadata": {
        "id": "m2JN9q8oaun8"
      },
      "source": [
        "#Variables\n",
        "x = 28\n",
        "y = \"I am a string!\"\n",
        "z = 'Double quotes or single quotes are ok!'\n",
        "print(x)\n",
        "print(y)\n",
        "print (z)\n",
        "print(type(y))\n",
        "#Variable types can be changed\n",
        "y = 10\n",
        "print(y)"
      ],
      "execution_count": null,
      "outputs": []
    },
    {
      "cell_type": "code",
      "metadata": {
        "colab": {
          "base_uri": "https://localhost:8080/"
        },
        "id": "Z97RfFyFayGD",
        "outputId": "e16538eb-3dd9-4b70-cc90-8013d72d9793"
      },
      "source": [
        "#Casting of variables\n",
        "x = str(3)    # x will be '3'\n",
        "y = int(3)    # y will be 3\n",
        "z = float(3)  # z will be 3.0\n",
        "print(z)"
      ],
      "execution_count": null,
      "outputs": [
        {
          "output_type": "stream",
          "name": "stdout",
          "text": [
            "3.0\n"
          ]
        }
      ]
    },
    {
      "cell_type": "code",
      "metadata": {
        "colab": {
          "base_uri": "https://localhost:8080/"
        },
        "id": "6OorNWkxa17x",
        "outputId": "e3edf677-7b59-4182-db32-283743c29cdf"
      },
      "source": [
        "#Get variable type\n",
        "print(type(x))"
      ],
      "execution_count": null,
      "outputs": [
        {
          "output_type": "stream",
          "name": "stdout",
          "text": [
            "<class 'str'>\n"
          ]
        }
      ]
    },
    {
      "cell_type": "code",
      "metadata": {
        "colab": {
          "base_uri": "https://localhost:8080/"
        },
        "id": "xklM7GPVa4G6",
        "outputId": "218d5178-82fb-4f7d-b9bf-e3e9e5973513"
      },
      "source": [
        "#Case sensitive\n",
        "var1 = 10\n",
        "Var1 = 20\n",
        "print(var1)\n",
        "print(Var1)"
      ],
      "execution_count": null,
      "outputs": [
        {
          "output_type": "stream",
          "name": "stdout",
          "text": [
            "10\n",
            "20\n"
          ]
        }
      ]
    },
    {
      "cell_type": "code",
      "metadata": {
        "id": "AiAnPpkca5jF"
      },
      "source": [
        "\n",
        "#Variable namimg convention\n",
        "\"\"\"\n",
        "A variable can have a short name (like x and y) or a more descriptive name (age, carname, total_volume). \n",
        "Rules for Python variables:\n",
        "1. A variable name must start with a letter or the underscore character\n",
        "2. A variable name cannot start with a number\n",
        "3. A variable name can only contain alpha-numeric characters and underscores (A-z, 0-9, and _ )\n",
        "4. Variable names are case-sensitive (age, Age and AGE are three different variables)\n",
        "\"\"\""
      ],
      "execution_count": null,
      "outputs": []
    },
    {
      "cell_type": "code",
      "metadata": {
        "id": "KB98NZDfa7Un"
      },
      "source": [
        "#Camel case \n",
        "camelCase = \"This is a string variable in camel case format\"\n",
        "#Snake case\n",
        "snake_case_format_string = \"This is a snake case format. Which do you like best?\""
      ],
      "execution_count": null,
      "outputs": []
    },
    {
      "cell_type": "code",
      "metadata": {
        "id": "paeqKCSYa85H"
      },
      "source": [
        "#Many Values to Multiple Variables\n",
        "x, y, z = \"a\", \"b\", \"c\"\n",
        "print(x)\n",
        "print(y)\n",
        "print(z)"
      ],
      "execution_count": null,
      "outputs": []
    },
    {
      "cell_type": "code",
      "metadata": {
        "id": "IuY3DC22a-gP"
      },
      "source": [
        "#One Value to Multiple Variables\n",
        "x = y = z = \"b\"\n",
        "print(x)\n",
        "print(y)\n",
        "print(z)"
      ],
      "execution_count": null,
      "outputs": []
    },
    {
      "cell_type": "code",
      "metadata": {
        "id": "rMupCSc0bE3U"
      },
      "source": [
        "#using arrays\n",
        "letters = [\"a\", \"b\", \"c\"]\n",
        "x, y, z = letters\n",
        "print(x)\n",
        "print(y)\n",
        "print(z)"
      ],
      "execution_count": null,
      "outputs": []
    },
    {
      "cell_type": "code",
      "metadata": {
        "colab": {
          "base_uri": "https://localhost:8080/"
        },
        "id": "MASP_gXobGa2",
        "outputId": "2da97d70-c930-4f1c-e973-b60273b9c0cf"
      },
      "source": [
        "#Outputting variables using print\n",
        "x = \"good\"\n",
        "print(\"x = \"+ x)\n",
        "\n",
        "#concatenating strings\n",
        "x = \"Life is\"\n",
        "y = \"good\"\n",
        "z = x + y \n",
        "print (z)"
      ],
      "execution_count": null,
      "outputs": [
        {
          "output_type": "stream",
          "name": "stdout",
          "text": [
            "x = good\n",
            "Life isgood\n"
          ]
        }
      ]
    },
    {
      "cell_type": "code",
      "metadata": {
        "colab": {
          "base_uri": "https://localhost:8080/",
          "height": 215
        },
        "id": "rGkY91LhbIKB",
        "outputId": "f4778e6e-f22c-4632-f747-56fa7bbd51af"
      },
      "source": [
        "x = \"The value of pi is \"\n",
        "y = 3.14\n",
        "z = x + y\n",
        "print(z)"
      ],
      "execution_count": null,
      "outputs": [
        {
          "output_type": "error",
          "ename": "TypeError",
          "evalue": "ignored",
          "traceback": [
            "\u001b[0;31m---------------------------------------------------------------------------\u001b[0m",
            "\u001b[0;31mTypeError\u001b[0m                                 Traceback (most recent call last)",
            "\u001b[0;32m<ipython-input-14-5856250f8635>\u001b[0m in \u001b[0;36m<module>\u001b[0;34m()\u001b[0m\n\u001b[1;32m      1\u001b[0m \u001b[0mx\u001b[0m \u001b[0;34m=\u001b[0m \u001b[0;34m\"The value of pi is \"\u001b[0m\u001b[0;34m\u001b[0m\u001b[0;34m\u001b[0m\u001b[0m\n\u001b[1;32m      2\u001b[0m \u001b[0my\u001b[0m \u001b[0;34m=\u001b[0m \u001b[0;36m3.14\u001b[0m\u001b[0;34m\u001b[0m\u001b[0;34m\u001b[0m\u001b[0m\n\u001b[0;32m----> 3\u001b[0;31m \u001b[0mz\u001b[0m \u001b[0;34m=\u001b[0m \u001b[0mx\u001b[0m \u001b[0;34m+\u001b[0m \u001b[0my\u001b[0m\u001b[0;34m\u001b[0m\u001b[0;34m\u001b[0m\u001b[0m\n\u001b[0m\u001b[1;32m      4\u001b[0m \u001b[0mprint\u001b[0m\u001b[0;34m(\u001b[0m\u001b[0mz\u001b[0m\u001b[0;34m)\u001b[0m\u001b[0;34m\u001b[0m\u001b[0;34m\u001b[0m\u001b[0m\n",
            "\u001b[0;31mTypeError\u001b[0m: can only concatenate str (not \"float\") to str"
          ]
        }
      ]
    },
    {
      "cell_type": "code",
      "metadata": {
        "id": "HZ-7milRbPRg"
      },
      "source": [
        "#Scope\n",
        "x = \"awesome\"\n",
        "\n",
        "def myfunc():\n",
        "  x = \"fantastic\"\n",
        "  print(\"Life is \" + x)\n",
        "\n",
        "myfunc()\n",
        "\n",
        "print(\"Life is \" + x)\n",
        "\n"
      ],
      "execution_count": null,
      "outputs": []
    },
    {
      "cell_type": "code",
      "metadata": {
        "colab": {
          "base_uri": "https://localhost:8080/"
        },
        "id": "QZMNt1NLc9xn",
        "outputId": "29ef451e-fb97-43a9-f4f5-889366428292"
      },
      "source": [
        "\n",
        "a = \"Amsterdam!\"\n",
        "print(a[1])\n",
        "for x in \"Aloha\":\n",
        "  print(x)\n",
        "\n",
        "print(len(a))"
      ],
      "execution_count": null,
      "outputs": [
        {
          "output_type": "stream",
          "name": "stdout",
          "text": [
            "m\n",
            "A\n",
            "l\n",
            "o\n",
            "h\n",
            "a\n",
            "10\n"
          ]
        }
      ]
    },
    {
      "cell_type": "code",
      "metadata": {
        "colab": {
          "base_uri": "https://localhost:8080/"
        },
        "id": "-iqIxY-Rb3jK",
        "outputId": "51f807e9-9c41-4ac7-b430-059f5072c3f0"
      },
      "source": [
        "#Get the characters from position 2 to position 5 (not included):\n",
        "b = \"Applesauce!\"\n",
        "print(b[2:5])\n",
        "#From beginning\n",
        "print(b[:5])\n",
        "#To end\n",
        "print(b[2:])\n",
        "#From end of the string\n",
        "print(b[-5:-2])"
      ],
      "execution_count": null,
      "outputs": [
        {
          "output_type": "stream",
          "name": "stdout",
          "text": [
            "ple\n",
            "Apple\n",
            "plesauce!\n",
            "auc\n"
          ]
        }
      ]
    },
    {
      "cell_type": "code",
      "metadata": {
        "colab": {
          "base_uri": "https://localhost:8080/"
        },
        "id": "5KiiX9i4b5E_",
        "outputId": "d4a203d5-0811-4632-ae62-135bca29ca4b"
      },
      "source": [
        "\n",
        "#Other operations such as upper case, lower case, trimming spaces, replacing words and splitting \n",
        "a = \" I am a fancy string \"\n",
        "print(a.upper())\n",
        "print(a.lower())\n",
        "print(a.strip()) \n",
        "print(a.replace(\"fancy\", \"simple\"))\n",
        "print(a.split(\" \"))\n"
      ],
      "execution_count": null,
      "outputs": [
        {
          "output_type": "stream",
          "name": "stdout",
          "text": [
            " I AM A FANCY STRING \n",
            " i am a fancy string \n",
            "I am a fancy string\n",
            " I am a simple string \n",
            "['', 'I', 'am', 'a', 'fancy', 'string', '']\n"
          ]
        }
      ]
    },
    {
      "cell_type": "code",
      "metadata": {
        "colab": {
          "base_uri": "https://localhost:8080/"
        },
        "id": "hLzdAAuPb6Wq",
        "outputId": "2b97b457-e496-4928-d45f-e182700e16a4"
      },
      "source": [
        "#Formatting strings for diff data types\n",
        "age = 1\n",
        "txt = \"My name is Jax, and I am {}\"\n",
        "print(txt.format(age))\n"
      ],
      "execution_count": null,
      "outputs": [
        {
          "output_type": "stream",
          "name": "stdout",
          "text": [
            "My name is Jax, and I am 1\n",
            "I want 10 tomatoes for $12 dollars please in 1 hour(s).\n"
          ]
        }
      ]
    },
    {
      "cell_type": "code",
      "metadata": {
        "id": "_wZz0N1Scx74"
      },
      "source": [
        "\n",
        "quantity = 10\n",
        "item = \"tomatoes\"\n",
        "price = 12\n",
        "time = 1\n",
        "myorder = \"I want {} {} for ${} dollars please in {} hour(s).\"\n",
        "print(myorder.format(quantity, item, price, time))\n"
      ],
      "execution_count": null,
      "outputs": []
    },
    {
      "cell_type": "code",
      "metadata": {
        "id": "7OhbT2qicz2c"
      },
      "source": [
        "txt = \"We are the so-called \\\"Vikings\\\" from the north.\""
      ],
      "execution_count": null,
      "outputs": []
    },
    {
      "cell_type": "code",
      "metadata": {
        "id": "mjV-zuXpc2uL"
      },
      "source": [
        "name = input('What is your name?')\n"
      ],
      "execution_count": null,
      "outputs": []
    },
    {
      "cell_type": "markdown",
      "metadata": {
        "id": "qMiVPC6RrW0W"
      },
      "source": [
        "Challenge Question:\n",
        "\n",
        "# Ask the user their year of birth\n",
        "Then tell them how old they are\n",
        "For ex: \n",
        "Which year were you born? 2009\n",
        "Your age is: 12\n"
      ]
    },
    {
      "cell_type": "code",
      "metadata": {
        "id": "11mqoOHEdXN-"
      },
      "source": [
        ""
      ],
      "execution_count": null,
      "outputs": []
    }
  ]
}