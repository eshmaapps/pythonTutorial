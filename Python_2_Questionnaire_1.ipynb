{
  "nbformat": 4,
  "nbformat_minor": 0,
  "metadata": {
    "colab": {
      "name": "Python 2:  Questionnaire 1.ipynb",
      "provenance": [],
      "authorship_tag": "ABX9TyMRf09cOUIgd70SypmyakEG",
      "include_colab_link": true
    },
    "kernelspec": {
      "name": "python3",
      "display_name": "Python 3"
    },
    "language_info": {
      "name": "python"
    }
  },
  "cells": [
    {
      "cell_type": "markdown",
      "metadata": {
        "id": "view-in-github",
        "colab_type": "text"
      },
      "source": [
        "<a href=\"https://colab.research.google.com/github/eshmaapps/pythonTutorial/blob/main/Python_2_Questionnaire_1.ipynb\" target=\"_parent\"><img src=\"https://colab.research.google.com/assets/colab-badge.svg\" alt=\"Open In Colab\"/></a>"
      ]
    },
    {
      "cell_type": "markdown",
      "source": [
        "**Learning If/else Statements :**\n",
        "\n",
        "Problem #1: Take a number as an input. Is it positive, 0 or negative?\n",
        "\n",
        "\n",
        "---\n",
        "\n",
        "\n",
        "\n",
        "Problem #2: Take an input. Is it integer or string?\n",
        "\n",
        "\n",
        "\n",
        "---\n",
        "\n",
        "\n",
        "\n",
        "Problem #3: The squirrels in Palo Alto spend most of the day playing. In particular, they play if the temperature is between 60 and 90 (inclusive). Given an int temperature, return True if the squirrels play and False otherwise.\n",
        "\n",
        "\n",
        "---\n",
        "\n",
        "\n",
        "\n",
        "**Learning If/else Statements with functions:**\n",
        "\n",
        "Problem #4: Now note that if it's summer,  the upper limit is 100 instead of 90. Given an int temperature and a boolean is_summer, return True if the squirrels play and False otherwise.\n",
        "\n",
        "\n",
        "\n",
        "For example:\n",
        "\n",
        "doSquirrelsPlay(70, False) → True\n",
        "\n",
        "doSquirrelsPlay(95, False) → False\n",
        "\n",
        "doSquirrelsPlay(95, True) → True\n",
        "\n",
        "\n",
        "\n",
        "\n",
        "---\n",
        "\n",
        "Problem #5: Given a day of the week encoded as 0=Sun, 1=Mon, 2=Tue, ...6=Sat, write a function which returns boolean True or False if the alarm should ring or not. [Weekdays yes, weekends no]\n",
        "\n",
        "\n"
      ],
      "metadata": {
        "id": "Y00hvP04ZEYq"
      }
    },
    {
      "cell_type": "markdown",
      "source": [
        ""
      ],
      "metadata": {
        "id": "_dUQtgBTgZnH"
      }
    }
  ]
}